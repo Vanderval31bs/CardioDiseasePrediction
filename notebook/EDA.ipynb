{
 "cells": [
  {
   "attachments": {},
   "cell_type": "markdown",
   "id": "1e233234",
   "metadata": {},
   "source": [
    "## Cardiovascular Disease Dataset\n"
   ]
  },
  {
   "cell_type": "markdown",
   "id": "dfcea981",
   "metadata": {},
   "source": [
    "### 1 Problem Statement\n",
    "This project aims to analyze the influence of various factors on the presence of cardiovascular disease. These factors include demographic features like age and gender, physical attributes like height and weight, clinical measurements such as blood pressure and cholesterol levels, and lifestyle habits like alcohol consumption and physical activity.\n",
    "\n",
    "### 2 Data Collection\n",
    "The dataset used for this analysis is sourced from Kaggle and can be found at [CardioVascular Disease Dataset](https://www.kaggle.com/datasets/sulianova/cardiovascular-disease-dataset/data)."
   ]
  },
  {
   "cell_type": "markdown",
   "id": "a8718a6d",
   "metadata": {},
   "source": [
    "#### 2.1 Install required packages"
   ]
  },
  {
   "cell_type": "code",
   "execution_count": 1,
   "id": "fdca61fb",
   "metadata": {},
   "outputs": [
    {
     "name": "stdout",
     "output_type": "stream",
     "text": [
      "^C\n",
      "Requirement already satisfied: matplotlib in c:\\users\\vanderval\\appdata\\local\\programs\\python\\python311\\lib\\site-packages (3.8.4)\n",
      "Requirement already satisfied: contourpy>=1.0.1 in c:\\users\\vanderval\\appdata\\local\\programs\\python\\python311\\lib\\site-packages (from matplotlib) (1.2.1)\n",
      "Requirement already satisfied: cycler>=0.10 in c:\\users\\vanderval\\appdata\\local\\programs\\python\\python311\\lib\\site-packages (from matplotlib) (0.12.1)\n",
      "Requirement already satisfied: fonttools>=4.22.0 in c:\\users\\vanderval\\appdata\\local\\programs\\python\\python311\\lib\\site-packages (from matplotlib) (4.51.0)\n",
      "Requirement already satisfied: kiwisolver>=1.3.1 in c:\\users\\vanderval\\appdata\\local\\programs\\python\\python311\\lib\\site-packages (from matplotlib) (1.4.5)\n",
      "Requirement already satisfied: numpy>=1.21 in c:\\users\\vanderval\\appdata\\local\\programs\\python\\python311\\lib\\site-packages (from matplotlib) (1.23.5)\n",
      "Requirement already satisfied: packaging>=20.0 in c:\\users\\vanderval\\appdata\\local\\programs\\python\\python311\\lib\\site-packages (from matplotlib) (23.1)\n",
      "Requirement already satisfied: pillow>=8 in c:\\users\\vanderval\\appdata\\local\\programs\\python\\python311\\lib\\site-packages (from matplotlib) (9.5.0)\n",
      "Requirement already satisfied: pyparsing>=2.3.1 in c:\\users\\vanderval\\appdata\\local\\programs\\python\\python311\\lib\\site-packages (from matplotlib) (3.1.0)\n",
      "Requirement already satisfied: python-dateutil>=2.7 in c:\\users\\vanderval\\appdata\\local\\programs\\python\\python311\\lib\\site-packages (from matplotlib) (2.8.2)\n",
      "Requirement already satisfied: six>=1.5 in c:\\users\\vanderval\\appdata\\local\\programs\\python\\python311\\lib\\site-packages (from python-dateutil>=2.7->matplotlib) (1.16.0)\n"
     ]
    },
    {
     "name": "stderr",
     "output_type": "stream",
     "text": [
      "\n",
      "[notice] A new release of pip is available: 23.2 -> 24.1.2\n",
      "[notice] To update, run: python.exe -m pip install --upgrade pip\n"
     ]
    },
    {
     "name": "stdout",
     "output_type": "stream",
     "text": [
      "Requirement already satisfied: numpy in c:\\users\\vanderval\\appdata\\local\\programs\\python\\python311\\lib\\site-packages (1.23.5)\n"
     ]
    },
    {
     "name": "stderr",
     "output_type": "stream",
     "text": [
      "\n",
      "[notice] A new release of pip is available: 23.2 -> 24.1.2\n",
      "[notice] To update, run: python.exe -m pip install --upgrade pip\n"
     ]
    }
   ],
   "source": [
    "!pip install matplotlib\n",
    "!pip install numpy\n",
    "!pip install pandas\n",
    "!pip install seaborn\n",
    "!pip install scipy\n",
    "!pip install sklearn\n",
    "!pip install pingouin\n",
    "!pip install prince\n",
    "!pip install plotly"
   ]
  },
  {
   "cell_type": "markdown",
   "id": "15b1355f",
   "metadata": {},
   "source": [
    "#### 2.1 Import Data and Required Packages\n",
    "\n",
    "Importing packages"
   ]
  },
  {
   "cell_type": "code",
   "execution_count": 1,
   "id": "7eaae1d7",
   "metadata": {},
   "outputs": [],
   "source": [
    "import numpy as np\n",
    "import pandas as pd\n",
    "import seaborn as sns\n",
    "import plotly.express as px\n",
    "import pingouin as pg\n",
    "import prince\n",
    "\n",
    "from matplotlib import pyplot as plt\n",
    "%matplotlib inline\n",
    "\n",
    "from sklearn.metrics import silhouette_score\n",
    "from sklearn.cluster import KMeans\n",
    "\n",
    "from scipy.stats import f_oneway\n",
    "from scipy.stats import ttest_ind\n",
    "from scipy.stats import chi2_contingency\n",
    "from scipy.stats import zscore\n",
    "\n",
    "import warnings\n",
    "warnings.filterwarnings('ignore')\n",
    "\n",
    "seed = 31 # defined to ensure that the random processes are reproducible"
   ]
  },
  {
   "cell_type": "markdown",
   "id": "3caeb0bb",
   "metadata": {},
   "source": [
    "Import the CSV Data as Pandas DataFrame"
   ]
  },
  {
   "cell_type": "code",
   "execution_count": 2,
   "id": "57907087",
   "metadata": {},
   "outputs": [],
   "source": [
    "def get_cardio_df():\n",
    "    return pd.read_csv('data/cardio.csv', sep=\";\")\n",
    "\n",
    "df = get_cardio_df()"
   ]
  },
  {
   "cell_type": "markdown",
   "id": "92c8fd8a",
   "metadata": {},
   "source": [
    "Show Top 5 Records"
   ]
  },
  {
   "cell_type": "code",
   "execution_count": 3,
   "id": "7d1a2a0b",
   "metadata": {},
   "outputs": [
    {
     "data": {
      "text/html": [
       "<div>\n",
       "<style scoped>\n",
       "    .dataframe tbody tr th:only-of-type {\n",
       "        vertical-align: middle;\n",
       "    }\n",
       "\n",
       "    .dataframe tbody tr th {\n",
       "        vertical-align: top;\n",
       "    }\n",
       "\n",
       "    .dataframe thead th {\n",
       "        text-align: right;\n",
       "    }\n",
       "</style>\n",
       "<table border=\"1\" class=\"dataframe\">\n",
       "  <thead>\n",
       "    <tr style=\"text-align: right;\">\n",
       "      <th></th>\n",
       "      <th>id</th>\n",
       "      <th>age</th>\n",
       "      <th>gender</th>\n",
       "      <th>height</th>\n",
       "      <th>weight</th>\n",
       "      <th>ap_hi</th>\n",
       "      <th>ap_lo</th>\n",
       "      <th>cholesterol</th>\n",
       "      <th>gluc</th>\n",
       "      <th>smoke</th>\n",
       "      <th>alco</th>\n",
       "      <th>active</th>\n",
       "      <th>cardio</th>\n",
       "    </tr>\n",
       "  </thead>\n",
       "  <tbody>\n",
       "    <tr>\n",
       "      <th>0</th>\n",
       "      <td>0</td>\n",
       "      <td>18393</td>\n",
       "      <td>2</td>\n",
       "      <td>168</td>\n",
       "      <td>62.0</td>\n",
       "      <td>110</td>\n",
       "      <td>80</td>\n",
       "      <td>1</td>\n",
       "      <td>1</td>\n",
       "      <td>0</td>\n",
       "      <td>0</td>\n",
       "      <td>1</td>\n",
       "      <td>0</td>\n",
       "    </tr>\n",
       "    <tr>\n",
       "      <th>1</th>\n",
       "      <td>1</td>\n",
       "      <td>20228</td>\n",
       "      <td>1</td>\n",
       "      <td>156</td>\n",
       "      <td>85.0</td>\n",
       "      <td>140</td>\n",
       "      <td>90</td>\n",
       "      <td>3</td>\n",
       "      <td>1</td>\n",
       "      <td>0</td>\n",
       "      <td>0</td>\n",
       "      <td>1</td>\n",
       "      <td>1</td>\n",
       "    </tr>\n",
       "    <tr>\n",
       "      <th>2</th>\n",
       "      <td>2</td>\n",
       "      <td>18857</td>\n",
       "      <td>1</td>\n",
       "      <td>165</td>\n",
       "      <td>64.0</td>\n",
       "      <td>130</td>\n",
       "      <td>70</td>\n",
       "      <td>3</td>\n",
       "      <td>1</td>\n",
       "      <td>0</td>\n",
       "      <td>0</td>\n",
       "      <td>0</td>\n",
       "      <td>1</td>\n",
       "    </tr>\n",
       "    <tr>\n",
       "      <th>3</th>\n",
       "      <td>3</td>\n",
       "      <td>17623</td>\n",
       "      <td>2</td>\n",
       "      <td>169</td>\n",
       "      <td>82.0</td>\n",
       "      <td>150</td>\n",
       "      <td>100</td>\n",
       "      <td>1</td>\n",
       "      <td>1</td>\n",
       "      <td>0</td>\n",
       "      <td>0</td>\n",
       "      <td>1</td>\n",
       "      <td>1</td>\n",
       "    </tr>\n",
       "    <tr>\n",
       "      <th>4</th>\n",
       "      <td>4</td>\n",
       "      <td>17474</td>\n",
       "      <td>1</td>\n",
       "      <td>156</td>\n",
       "      <td>56.0</td>\n",
       "      <td>100</td>\n",
       "      <td>60</td>\n",
       "      <td>1</td>\n",
       "      <td>1</td>\n",
       "      <td>0</td>\n",
       "      <td>0</td>\n",
       "      <td>0</td>\n",
       "      <td>0</td>\n",
       "    </tr>\n",
       "  </tbody>\n",
       "</table>\n",
       "</div>"
      ],
      "text/plain": [
       "   id    age  gender  height  weight  ap_hi  ap_lo  cholesterol  gluc  smoke  \\\n",
       "0   0  18393       2     168    62.0    110     80            1     1      0   \n",
       "1   1  20228       1     156    85.0    140     90            3     1      0   \n",
       "2   2  18857       1     165    64.0    130     70            3     1      0   \n",
       "3   3  17623       2     169    82.0    150    100            1     1      0   \n",
       "4   4  17474       1     156    56.0    100     60            1     1      0   \n",
       "\n",
       "   alco  active  cardio  \n",
       "0     0       1       0  \n",
       "1     0       1       1  \n",
       "2     0       0       1  \n",
       "3     0       1       1  \n",
       "4     0       0       0  "
      ]
     },
     "execution_count": 3,
     "metadata": {},
     "output_type": "execute_result"
    }
   ],
   "source": [
    "df.head()"
   ]
  },
  {
   "cell_type": "markdown",
   "id": "56a49220",
   "metadata": {},
   "source": [
    "Shape of the dataset"
   ]
  },
  {
   "cell_type": "code",
   "execution_count": 4,
   "id": "417e5820",
   "metadata": {},
   "outputs": [
    {
     "data": {
      "text/plain": [
       "(70000, 13)"
      ]
     },
     "execution_count": 4,
     "metadata": {},
     "output_type": "execute_result"
    }
   ],
   "source": [
    "df.shape"
   ]
  },
  {
   "cell_type": "markdown",
   "id": "dfd33a42",
   "metadata": {},
   "source": [
    "The dataset consists of 7000 rows and 13 columns."
   ]
  },
  {
   "cell_type": "markdown",
   "id": "041aa39d",
   "metadata": {},
   "source": [
    "#### 2.2 Dataset information"
   ]
  },
  {
   "cell_type": "code",
   "execution_count": 5,
   "id": "a4d8b027",
   "metadata": {},
   "outputs": [
    {
     "data": {
      "text/plain": [
       "Index(['id', 'age', 'gender', 'height', 'weight', 'ap_hi', 'ap_lo',\n",
       "       'cholesterol', 'gluc', 'smoke', 'alco', 'active', 'cardio'],\n",
       "      dtype='object')"
      ]
     },
     "execution_count": 5,
     "metadata": {},
     "output_type": "execute_result"
    }
   ],
   "source": [
    "df.columns"
   ]
  },
  {
   "cell_type": "markdown",
   "id": "7e3cff9d",
   "metadata": {},
   "source": [
    "There are 3 types of input features:\n",
    "\n",
    "- **Objective**: factual information\n",
    "- **Examination**: results of medical examination\n",
    "- **Subjective**: information given by the patient\n",
    "\n",
    "Features:\n",
    "\n",
    "| Feature                               | Type                  | Code    | Data Type                        |\n",
    "|---------------------------------------|-----------------------|---------|----------------------------------|\n",
    "| Age                                   | Objective Feature     | age     | int (days)                       |\n",
    "| Height                                | Objective Feature     | height  | int (cm)                         |\n",
    "| Weight                                | Objective Feature     | weight  | float (kg)                       |\n",
    "| Gender                                | Objective Feature     | gender  | categorical code                 |\n",
    "| Systolic blood pressure               | Examination Feature   | ap_hi   | int                              |\n",
    "| Diastolic blood pressure              | Examination Feature   | ap_lo   | int                              |\n",
    "| Cholesterol                           | Examination Feature   | cholesterol | 1: normal, 2: above normal, 3: well above normal |\n",
    "| Glucose                               | Examination Feature   | gluc    | 1: normal, 2: above normal, 3: well above normal |\n",
    "| Smoking                               | Subjective Feature    | smoke   | binary                           |\n",
    "| Alcohol intake                        | Subjective Feature    | alco    | binary                           |\n",
    "| Physical activity                     | Subjective Feature    | active  | binary                           |\n",
    "| Presence or absence of cardiovascular disease | Target Variable      | cardio  | binary                           |"
   ]
  },
  {
   "cell_type": "markdown",
   "id": "27c4b61b",
   "metadata": {},
   "source": [
    "### 3. Data Checks to Perform\n",
    "\n",
    "- Verify data types\n",
    "- Identify missing values\n",
    "- Identify duplicates\n",
    "- Review dataset statistics\n",
    "- Examine categories across categorical columns"
   ]
  },
  {
   "cell_type": "markdown",
   "id": "20fe785e",
   "metadata": {},
   "source": [
    "#### 3.1 Verify data types"
   ]
  },
  {
   "cell_type": "code",
   "execution_count": 6,
   "id": "c8cea6c1",
   "metadata": {},
   "outputs": [
    {
     "name": "stdout",
     "output_type": "stream",
     "text": [
      "<class 'pandas.core.frame.DataFrame'>\n",
      "RangeIndex: 70000 entries, 0 to 69999\n",
      "Data columns (total 13 columns):\n",
      " #   Column       Non-Null Count  Dtype  \n",
      "---  ------       --------------  -----  \n",
      " 0   id           70000 non-null  int64  \n",
      " 1   age          70000 non-null  int64  \n",
      " 2   gender       70000 non-null  int64  \n",
      " 3   height       70000 non-null  int64  \n",
      " 4   weight       70000 non-null  float64\n",
      " 5   ap_hi        70000 non-null  int64  \n",
      " 6   ap_lo        70000 non-null  int64  \n",
      " 7   cholesterol  70000 non-null  int64  \n",
      " 8   gluc         70000 non-null  int64  \n",
      " 9   smoke        70000 non-null  int64  \n",
      " 10  alco         70000 non-null  int64  \n",
      " 11  active       70000 non-null  int64  \n",
      " 12  cardio       70000 non-null  int64  \n",
      "dtypes: float64(1), int64(12)\n",
      "memory usage: 6.9 MB\n"
     ]
    }
   ],
   "source": [
    "df.info()"
   ]
  },
  {
   "cell_type": "code",
   "execution_count": 8,
   "id": "c3483472",
   "metadata": {},
   "outputs": [
    {
     "name": "stdout",
     "output_type": "stream",
     "text": [
      "We have 13 numerical features: ['id', 'age', 'gender', 'height', 'weight', 'ap_hi', 'ap_lo', 'cholesterol', 'gluc', 'smoke', 'alco', 'active', 'cardio']\n",
      "\n",
      "We have 0 categorical features: []\n"
     ]
    }
   ],
   "source": [
    "def get_numerical_features(dataframe):\n",
    "    return dataframe.select_dtypes(exclude='object').columns.tolist()\n",
    "\n",
    "def get_categorical_features(dataframe):\n",
    "    return dataframe.select_dtypes(include='object').columns.tolist()\n",
    "\n",
    "numeric_features = get_numerical_features(df)\n",
    "categorical_features = get_categorical_features(df)\n",
    "\n",
    "print(f'We have {len(numeric_features)} numerical features: {numeric_features}')\n",
    "print(f'\\nWe have {len(categorical_features)} categorical features: {categorical_features}')"
   ]
  },
  {
   "cell_type": "markdown",
   "id": "deae9d48",
   "metadata": {},
   "source": [
    "As we can see, many of the data points are being treated as numeric when they are actually categorical. For instance, cholesterol levels are categorized into three specific values: 1 for 'normal', 2 for 'above normal', and 3 for 'well above normal'."
   ]
  },
  {
   "cell_type": "markdown",
   "id": "c31d4123",
   "metadata": {},
   "source": [
    "#### 3.2 Identify missing values"
   ]
  },
  {
   "cell_type": "code",
   "execution_count": 9,
   "id": "707d6a7b",
   "metadata": {},
   "outputs": [
    {
     "data": {
      "text/plain": [
       "id             0\n",
       "age            0\n",
       "gender         0\n",
       "height         0\n",
       "weight         0\n",
       "ap_hi          0\n",
       "ap_lo          0\n",
       "cholesterol    0\n",
       "gluc           0\n",
       "smoke          0\n",
       "alco           0\n",
       "active         0\n",
       "cardio         0\n",
       "dtype: int64"
      ]
     },
     "execution_count": 9,
     "metadata": {},
     "output_type": "execute_result"
    }
   ],
   "source": [
    "df.isna().sum()"
   ]
  },
  {
   "cell_type": "markdown",
   "id": "6bbf91e7",
   "metadata": {},
   "source": [
    "There are no missing values in the dataset."
   ]
  },
  {
   "cell_type": "markdown",
   "id": "5840ff7f",
   "metadata": {},
   "source": [
    "#### 3.3 Identify Duplicates"
   ]
  },
  {
   "cell_type": "code",
   "execution_count": 10,
   "id": "ae16686e",
   "metadata": {},
   "outputs": [
    {
     "name": "stdout",
     "output_type": "stream",
     "text": [
      "duplicates:  0\n"
     ]
    }
   ],
   "source": [
    "print(\"duplicates: \", df.duplicated().sum())"
   ]
  },
  {
   "cell_type": "markdown",
   "id": "e5d7ae8e",
   "metadata": {},
   "source": [
    "There are no duplicates in the dataset."
   ]
  },
  {
   "cell_type": "markdown",
   "id": "a4f6b022",
   "metadata": {},
   "source": [
    "#### 3.4 Review dataset statistics"
   ]
  },
  {
   "cell_type": "code",
   "execution_count": 11,
   "id": "76c608dc",
   "metadata": {},
   "outputs": [
    {
     "data": {
      "text/html": [
       "<div>\n",
       "<style scoped>\n",
       "    .dataframe tbody tr th:only-of-type {\n",
       "        vertical-align: middle;\n",
       "    }\n",
       "\n",
       "    .dataframe tbody tr th {\n",
       "        vertical-align: top;\n",
       "    }\n",
       "\n",
       "    .dataframe thead th {\n",
       "        text-align: right;\n",
       "    }\n",
       "</style>\n",
       "<table border=\"1\" class=\"dataframe\">\n",
       "  <thead>\n",
       "    <tr style=\"text-align: right;\">\n",
       "      <th></th>\n",
       "      <th>id</th>\n",
       "      <th>age</th>\n",
       "      <th>gender</th>\n",
       "      <th>height</th>\n",
       "      <th>weight</th>\n",
       "      <th>ap_hi</th>\n",
       "      <th>ap_lo</th>\n",
       "      <th>cholesterol</th>\n",
       "      <th>gluc</th>\n",
       "      <th>smoke</th>\n",
       "      <th>alco</th>\n",
       "      <th>active</th>\n",
       "      <th>cardio</th>\n",
       "    </tr>\n",
       "  </thead>\n",
       "  <tbody>\n",
       "    <tr>\n",
       "      <th>count</th>\n",
       "      <td>70000.000000</td>\n",
       "      <td>70000.000000</td>\n",
       "      <td>70000.000000</td>\n",
       "      <td>70000.000000</td>\n",
       "      <td>70000.000000</td>\n",
       "      <td>70000.000000</td>\n",
       "      <td>70000.000000</td>\n",
       "      <td>70000.000000</td>\n",
       "      <td>70000.000000</td>\n",
       "      <td>70000.000000</td>\n",
       "      <td>70000.000000</td>\n",
       "      <td>70000.000000</td>\n",
       "      <td>70000.000000</td>\n",
       "    </tr>\n",
       "    <tr>\n",
       "      <th>mean</th>\n",
       "      <td>49972.419900</td>\n",
       "      <td>19468.865814</td>\n",
       "      <td>1.349571</td>\n",
       "      <td>164.359229</td>\n",
       "      <td>74.205690</td>\n",
       "      <td>128.817286</td>\n",
       "      <td>96.630414</td>\n",
       "      <td>1.366871</td>\n",
       "      <td>1.226457</td>\n",
       "      <td>0.088129</td>\n",
       "      <td>0.053771</td>\n",
       "      <td>0.803729</td>\n",
       "      <td>0.499700</td>\n",
       "    </tr>\n",
       "    <tr>\n",
       "      <th>std</th>\n",
       "      <td>28851.302323</td>\n",
       "      <td>2467.251667</td>\n",
       "      <td>0.476838</td>\n",
       "      <td>8.210126</td>\n",
       "      <td>14.395757</td>\n",
       "      <td>154.011419</td>\n",
       "      <td>188.472530</td>\n",
       "      <td>0.680250</td>\n",
       "      <td>0.572270</td>\n",
       "      <td>0.283484</td>\n",
       "      <td>0.225568</td>\n",
       "      <td>0.397179</td>\n",
       "      <td>0.500003</td>\n",
       "    </tr>\n",
       "    <tr>\n",
       "      <th>min</th>\n",
       "      <td>0.000000</td>\n",
       "      <td>10798.000000</td>\n",
       "      <td>1.000000</td>\n",
       "      <td>55.000000</td>\n",
       "      <td>10.000000</td>\n",
       "      <td>-150.000000</td>\n",
       "      <td>-70.000000</td>\n",
       "      <td>1.000000</td>\n",
       "      <td>1.000000</td>\n",
       "      <td>0.000000</td>\n",
       "      <td>0.000000</td>\n",
       "      <td>0.000000</td>\n",
       "      <td>0.000000</td>\n",
       "    </tr>\n",
       "    <tr>\n",
       "      <th>25%</th>\n",
       "      <td>25006.750000</td>\n",
       "      <td>17664.000000</td>\n",
       "      <td>1.000000</td>\n",
       "      <td>159.000000</td>\n",
       "      <td>65.000000</td>\n",
       "      <td>120.000000</td>\n",
       "      <td>80.000000</td>\n",
       "      <td>1.000000</td>\n",
       "      <td>1.000000</td>\n",
       "      <td>0.000000</td>\n",
       "      <td>0.000000</td>\n",
       "      <td>1.000000</td>\n",
       "      <td>0.000000</td>\n",
       "    </tr>\n",
       "    <tr>\n",
       "      <th>50%</th>\n",
       "      <td>50001.500000</td>\n",
       "      <td>19703.000000</td>\n",
       "      <td>1.000000</td>\n",
       "      <td>165.000000</td>\n",
       "      <td>72.000000</td>\n",
       "      <td>120.000000</td>\n",
       "      <td>80.000000</td>\n",
       "      <td>1.000000</td>\n",
       "      <td>1.000000</td>\n",
       "      <td>0.000000</td>\n",
       "      <td>0.000000</td>\n",
       "      <td>1.000000</td>\n",
       "      <td>0.000000</td>\n",
       "    </tr>\n",
       "    <tr>\n",
       "      <th>75%</th>\n",
       "      <td>74889.250000</td>\n",
       "      <td>21327.000000</td>\n",
       "      <td>2.000000</td>\n",
       "      <td>170.000000</td>\n",
       "      <td>82.000000</td>\n",
       "      <td>140.000000</td>\n",
       "      <td>90.000000</td>\n",
       "      <td>2.000000</td>\n",
       "      <td>1.000000</td>\n",
       "      <td>0.000000</td>\n",
       "      <td>0.000000</td>\n",
       "      <td>1.000000</td>\n",
       "      <td>1.000000</td>\n",
       "    </tr>\n",
       "    <tr>\n",
       "      <th>max</th>\n",
       "      <td>99999.000000</td>\n",
       "      <td>23713.000000</td>\n",
       "      <td>2.000000</td>\n",
       "      <td>250.000000</td>\n",
       "      <td>200.000000</td>\n",
       "      <td>16020.000000</td>\n",
       "      <td>11000.000000</td>\n",
       "      <td>3.000000</td>\n",
       "      <td>3.000000</td>\n",
       "      <td>1.000000</td>\n",
       "      <td>1.000000</td>\n",
       "      <td>1.000000</td>\n",
       "      <td>1.000000</td>\n",
       "    </tr>\n",
       "  </tbody>\n",
       "</table>\n",
       "</div>"
      ],
      "text/plain": [
       "                 id           age        gender        height        weight  \\\n",
       "count  70000.000000  70000.000000  70000.000000  70000.000000  70000.000000   \n",
       "mean   49972.419900  19468.865814      1.349571    164.359229     74.205690   \n",
       "std    28851.302323   2467.251667      0.476838      8.210126     14.395757   \n",
       "min        0.000000  10798.000000      1.000000     55.000000     10.000000   \n",
       "25%    25006.750000  17664.000000      1.000000    159.000000     65.000000   \n",
       "50%    50001.500000  19703.000000      1.000000    165.000000     72.000000   \n",
       "75%    74889.250000  21327.000000      2.000000    170.000000     82.000000   \n",
       "max    99999.000000  23713.000000      2.000000    250.000000    200.000000   \n",
       "\n",
       "              ap_hi         ap_lo   cholesterol          gluc         smoke  \\\n",
       "count  70000.000000  70000.000000  70000.000000  70000.000000  70000.000000   \n",
       "mean     128.817286     96.630414      1.366871      1.226457      0.088129   \n",
       "std      154.011419    188.472530      0.680250      0.572270      0.283484   \n",
       "min     -150.000000    -70.000000      1.000000      1.000000      0.000000   \n",
       "25%      120.000000     80.000000      1.000000      1.000000      0.000000   \n",
       "50%      120.000000     80.000000      1.000000      1.000000      0.000000   \n",
       "75%      140.000000     90.000000      2.000000      1.000000      0.000000   \n",
       "max    16020.000000  11000.000000      3.000000      3.000000      1.000000   \n",
       "\n",
       "               alco        active        cardio  \n",
       "count  70000.000000  70000.000000  70000.000000  \n",
       "mean       0.053771      0.803729      0.499700  \n",
       "std        0.225568      0.397179      0.500003  \n",
       "min        0.000000      0.000000      0.000000  \n",
       "25%        0.000000      1.000000      0.000000  \n",
       "50%        0.000000      1.000000      0.000000  \n",
       "75%        0.000000      1.000000      1.000000  \n",
       "max        1.000000      1.000000      1.000000  "
      ]
     },
     "execution_count": 11,
     "metadata": {},
     "output_type": "execute_result"
    }
   ],
   "source": [
    "df.describe()"
   ]
  },
  {
   "cell_type": "markdown",
   "id": "9dc41207",
   "metadata": {},
   "source": [
    "##### Insights\n",
    "- The dataset has an average age of approximately 53 years, with values ranging from 30 to 65 years.\n",
    "- The average height is about 164 cm, with some extreme values of 55 cm and 250 cm, which appear to be outliers.\n",
    "- The average weight is around 74 kg, also showing significant outliers, such as 10 kg and 200 kg. \n",
    "- The average systolic blood pressure is 129 mmHg, but there is high variability, with absurd values like -150 mmHg and 16020 mmHg.\n",
    "- The average diastolic blood pressure is 97 mmHg, also with a high standard deviation and unrealistic values like -70 mmHg and 11000 mmHg. \n",
    "\n",
    "The outliers indicate the need for data review and cleaning."
   ]
  },
  {
   "cell_type": "markdown",
   "id": "dbaabdaa",
   "metadata": {},
   "source": [
    "#### 3.4 Data cleaning"
   ]
  },
  {
   "cell_type": "markdown",
   "id": "73edf7c3",
   "metadata": {},
   "source": [
    "We will start by dropping the id column"
   ]
  },
  {
   "cell_type": "code",
   "execution_count": 12,
   "id": "b8f870b2",
   "metadata": {},
   "outputs": [
    {
     "data": {
      "text/html": [
       "<div>\n",
       "<style scoped>\n",
       "    .dataframe tbody tr th:only-of-type {\n",
       "        vertical-align: middle;\n",
       "    }\n",
       "\n",
       "    .dataframe tbody tr th {\n",
       "        vertical-align: top;\n",
       "    }\n",
       "\n",
       "    .dataframe thead th {\n",
       "        text-align: right;\n",
       "    }\n",
       "</style>\n",
       "<table border=\"1\" class=\"dataframe\">\n",
       "  <thead>\n",
       "    <tr style=\"text-align: right;\">\n",
       "      <th></th>\n",
       "      <th>age</th>\n",
       "      <th>gender</th>\n",
       "      <th>height</th>\n",
       "      <th>weight</th>\n",
       "      <th>ap_hi</th>\n",
       "      <th>ap_lo</th>\n",
       "      <th>cholesterol</th>\n",
       "      <th>gluc</th>\n",
       "      <th>smoke</th>\n",
       "      <th>alco</th>\n",
       "      <th>active</th>\n",
       "      <th>cardio</th>\n",
       "    </tr>\n",
       "  </thead>\n",
       "  <tbody>\n",
       "    <tr>\n",
       "      <th>0</th>\n",
       "      <td>18393</td>\n",
       "      <td>2</td>\n",
       "      <td>168</td>\n",
       "      <td>62.0</td>\n",
       "      <td>110</td>\n",
       "      <td>80</td>\n",
       "      <td>1</td>\n",
       "      <td>1</td>\n",
       "      <td>0</td>\n",
       "      <td>0</td>\n",
       "      <td>1</td>\n",
       "      <td>0</td>\n",
       "    </tr>\n",
       "    <tr>\n",
       "      <th>1</th>\n",
       "      <td>20228</td>\n",
       "      <td>1</td>\n",
       "      <td>156</td>\n",
       "      <td>85.0</td>\n",
       "      <td>140</td>\n",
       "      <td>90</td>\n",
       "      <td>3</td>\n",
       "      <td>1</td>\n",
       "      <td>0</td>\n",
       "      <td>0</td>\n",
       "      <td>1</td>\n",
       "      <td>1</td>\n",
       "    </tr>\n",
       "    <tr>\n",
       "      <th>2</th>\n",
       "      <td>18857</td>\n",
       "      <td>1</td>\n",
       "      <td>165</td>\n",
       "      <td>64.0</td>\n",
       "      <td>130</td>\n",
       "      <td>70</td>\n",
       "      <td>3</td>\n",
       "      <td>1</td>\n",
       "      <td>0</td>\n",
       "      <td>0</td>\n",
       "      <td>0</td>\n",
       "      <td>1</td>\n",
       "    </tr>\n",
       "    <tr>\n",
       "      <th>3</th>\n",
       "      <td>17623</td>\n",
       "      <td>2</td>\n",
       "      <td>169</td>\n",
       "      <td>82.0</td>\n",
       "      <td>150</td>\n",
       "      <td>100</td>\n",
       "      <td>1</td>\n",
       "      <td>1</td>\n",
       "      <td>0</td>\n",
       "      <td>0</td>\n",
       "      <td>1</td>\n",
       "      <td>1</td>\n",
       "    </tr>\n",
       "    <tr>\n",
       "      <th>4</th>\n",
       "      <td>17474</td>\n",
       "      <td>1</td>\n",
       "      <td>156</td>\n",
       "      <td>56.0</td>\n",
       "      <td>100</td>\n",
       "      <td>60</td>\n",
       "      <td>1</td>\n",
       "      <td>1</td>\n",
       "      <td>0</td>\n",
       "      <td>0</td>\n",
       "      <td>0</td>\n",
       "      <td>0</td>\n",
       "    </tr>\n",
       "  </tbody>\n",
       "</table>\n",
       "</div>"
      ],
      "text/plain": [
       "     age  gender  height  weight  ap_hi  ap_lo  cholesterol  gluc  smoke  \\\n",
       "0  18393       2     168    62.0    110     80            1     1      0   \n",
       "1  20228       1     156    85.0    140     90            3     1      0   \n",
       "2  18857       1     165    64.0    130     70            3     1      0   \n",
       "3  17623       2     169    82.0    150    100            1     1      0   \n",
       "4  17474       1     156    56.0    100     60            1     1      0   \n",
       "\n",
       "   alco  active  cardio  \n",
       "0     0       1       0  \n",
       "1     0       1       1  \n",
       "2     0       0       1  \n",
       "3     0       1       1  \n",
       "4     0       0       0  "
      ]
     },
     "execution_count": 12,
     "metadata": {},
     "output_type": "execute_result"
    }
   ],
   "source": [
    "def drop_id_column(input_df):\n",
    "    df_without_id = input_df.copy()\n",
    "    df_without_id = df_without_id.drop(columns=['id'])\n",
    "    return df_without_id\n",
    "\n",
    "df_without_id = drop_id_column(df)\n",
    "df_without_id.head()"
   ]
  },
  {
   "cell_type": "markdown",
   "id": "124ce7e3",
   "metadata": {},
   "source": [
    "Let's first map the numerical values of each variable to their corresponding categories."
   ]
  },
  {
   "cell_type": "code",
   "execution_count": 13,
   "id": "63b6cc8b",
   "metadata": {},
   "outputs": [
    {
     "data": {
      "text/html": [
       "<div>\n",
       "<style scoped>\n",
       "    .dataframe tbody tr th:only-of-type {\n",
       "        vertical-align: middle;\n",
       "    }\n",
       "\n",
       "    .dataframe tbody tr th {\n",
       "        vertical-align: top;\n",
       "    }\n",
       "\n",
       "    .dataframe thead th {\n",
       "        text-align: right;\n",
       "    }\n",
       "</style>\n",
       "<table border=\"1\" class=\"dataframe\">\n",
       "  <thead>\n",
       "    <tr style=\"text-align: right;\">\n",
       "      <th></th>\n",
       "      <th>age</th>\n",
       "      <th>gender</th>\n",
       "      <th>height</th>\n",
       "      <th>weight</th>\n",
       "      <th>ap_hi</th>\n",
       "      <th>ap_lo</th>\n",
       "      <th>cholesterol</th>\n",
       "      <th>gluc</th>\n",
       "      <th>smoke</th>\n",
       "      <th>alco</th>\n",
       "      <th>active</th>\n",
       "      <th>cardio</th>\n",
       "    </tr>\n",
       "  </thead>\n",
       "  <tbody>\n",
       "    <tr>\n",
       "      <th>0</th>\n",
       "      <td>18393</td>\n",
       "      <td>male</td>\n",
       "      <td>168</td>\n",
       "      <td>62.0</td>\n",
       "      <td>110</td>\n",
       "      <td>80</td>\n",
       "      <td>normal</td>\n",
       "      <td>normal</td>\n",
       "      <td>No</td>\n",
       "      <td>No</td>\n",
       "      <td>Yes</td>\n",
       "      <td>No</td>\n",
       "    </tr>\n",
       "    <tr>\n",
       "      <th>1</th>\n",
       "      <td>20228</td>\n",
       "      <td>female</td>\n",
       "      <td>156</td>\n",
       "      <td>85.0</td>\n",
       "      <td>140</td>\n",
       "      <td>90</td>\n",
       "      <td>well above normal</td>\n",
       "      <td>normal</td>\n",
       "      <td>No</td>\n",
       "      <td>No</td>\n",
       "      <td>Yes</td>\n",
       "      <td>Yes</td>\n",
       "    </tr>\n",
       "    <tr>\n",
       "      <th>2</th>\n",
       "      <td>18857</td>\n",
       "      <td>female</td>\n",
       "      <td>165</td>\n",
       "      <td>64.0</td>\n",
       "      <td>130</td>\n",
       "      <td>70</td>\n",
       "      <td>well above normal</td>\n",
       "      <td>normal</td>\n",
       "      <td>No</td>\n",
       "      <td>No</td>\n",
       "      <td>No</td>\n",
       "      <td>Yes</td>\n",
       "    </tr>\n",
       "    <tr>\n",
       "      <th>3</th>\n",
       "      <td>17623</td>\n",
       "      <td>male</td>\n",
       "      <td>169</td>\n",
       "      <td>82.0</td>\n",
       "      <td>150</td>\n",
       "      <td>100</td>\n",
       "      <td>normal</td>\n",
       "      <td>normal</td>\n",
       "      <td>No</td>\n",
       "      <td>No</td>\n",
       "      <td>Yes</td>\n",
       "      <td>Yes</td>\n",
       "    </tr>\n",
       "    <tr>\n",
       "      <th>4</th>\n",
       "      <td>17474</td>\n",
       "      <td>female</td>\n",
       "      <td>156</td>\n",
       "      <td>56.0</td>\n",
       "      <td>100</td>\n",
       "      <td>60</td>\n",
       "      <td>normal</td>\n",
       "      <td>normal</td>\n",
       "      <td>No</td>\n",
       "      <td>No</td>\n",
       "      <td>No</td>\n",
       "      <td>No</td>\n",
       "    </tr>\n",
       "  </tbody>\n",
       "</table>\n",
       "</div>"
      ],
      "text/plain": [
       "     age  gender  height  weight  ap_hi  ap_lo        cholesterol    gluc  \\\n",
       "0  18393    male     168    62.0    110     80             normal  normal   \n",
       "1  20228  female     156    85.0    140     90  well above normal  normal   \n",
       "2  18857  female     165    64.0    130     70  well above normal  normal   \n",
       "3  17623    male     169    82.0    150    100             normal  normal   \n",
       "4  17474  female     156    56.0    100     60             normal  normal   \n",
       "\n",
       "  smoke alco active cardio  \n",
       "0    No   No    Yes     No  \n",
       "1    No   No    Yes    Yes  \n",
       "2    No   No     No    Yes  \n",
       "3    No   No    Yes    Yes  \n",
       "4    No   No     No     No  "
      ]
     },
     "execution_count": 13,
     "metadata": {},
     "output_type": "execute_result"
    }
   ],
   "source": [
    "def map_features_categories(input_df):\n",
    "    df_with_categories = input_df.copy()\n",
    "    df_with_categories['gender'] = df_with_categories['gender'].map({1: 'female', 2: 'male'})\n",
    "\n",
    "    level_dict = {1: 'normal', 2: 'above normal', 3: 'well above normal'}\n",
    "    df_with_categories['cholesterol'] = df_with_categories['cholesterol'].map(level_dict)\n",
    "    df_with_categories['gluc'] = df_with_categories['gluc'].map(level_dict)\n",
    "\n",
    "    binary_map = {0: 'No', 1: 'Yes'}\n",
    "    df_with_categories['smoke'] = df_with_categories['smoke'].map(binary_map)\n",
    "    df_with_categories['alco'] = df_with_categories['alco'].map(binary_map)\n",
    "    df_with_categories['active'] = df_with_categories['active'].map(binary_map)\n",
    "    df_with_categories['cardio'] = df_with_categories['cardio'].map(binary_map)\n",
    "\n",
    "    return df_with_categories\n",
    "\n",
    "df_with_categories = map_features_categories(df_without_id)\n",
    "df_with_categories.head()"
   ]
  },
  {
   "cell_type": "code",
   "execution_count": 14,
   "id": "194d09b9",
   "metadata": {},
   "outputs": [
    {
     "data": {
      "text/html": [
       "<div>\n",
       "<style scoped>\n",
       "    .dataframe tbody tr th:only-of-type {\n",
       "        vertical-align: middle;\n",
       "    }\n",
       "\n",
       "    .dataframe tbody tr th {\n",
       "        vertical-align: top;\n",
       "    }\n",
       "\n",
       "    .dataframe thead th {\n",
       "        text-align: right;\n",
       "    }\n",
       "</style>\n",
       "<table border=\"1\" class=\"dataframe\">\n",
       "  <thead>\n",
       "    <tr style=\"text-align: right;\">\n",
       "      <th></th>\n",
       "      <th>age</th>\n",
       "      <th>gender</th>\n",
       "      <th>height</th>\n",
       "      <th>weight</th>\n",
       "      <th>ap_hi</th>\n",
       "      <th>ap_lo</th>\n",
       "      <th>cholesterol</th>\n",
       "      <th>gluc</th>\n",
       "      <th>smoke</th>\n",
       "      <th>alco</th>\n",
       "      <th>active</th>\n",
       "      <th>cardio</th>\n",
       "    </tr>\n",
       "  </thead>\n",
       "  <tbody>\n",
       "    <tr>\n",
       "      <th>0</th>\n",
       "      <td>50.391781</td>\n",
       "      <td>male</td>\n",
       "      <td>168</td>\n",
       "      <td>62.0</td>\n",
       "      <td>110</td>\n",
       "      <td>80</td>\n",
       "      <td>normal</td>\n",
       "      <td>normal</td>\n",
       "      <td>No</td>\n",
       "      <td>No</td>\n",
       "      <td>Yes</td>\n",
       "      <td>No</td>\n",
       "    </tr>\n",
       "    <tr>\n",
       "      <th>1</th>\n",
       "      <td>55.419178</td>\n",
       "      <td>female</td>\n",
       "      <td>156</td>\n",
       "      <td>85.0</td>\n",
       "      <td>140</td>\n",
       "      <td>90</td>\n",
       "      <td>well above normal</td>\n",
       "      <td>normal</td>\n",
       "      <td>No</td>\n",
       "      <td>No</td>\n",
       "      <td>Yes</td>\n",
       "      <td>Yes</td>\n",
       "    </tr>\n",
       "    <tr>\n",
       "      <th>2</th>\n",
       "      <td>51.663014</td>\n",
       "      <td>female</td>\n",
       "      <td>165</td>\n",
       "      <td>64.0</td>\n",
       "      <td>130</td>\n",
       "      <td>70</td>\n",
       "      <td>well above normal</td>\n",
       "      <td>normal</td>\n",
       "      <td>No</td>\n",
       "      <td>No</td>\n",
       "      <td>No</td>\n",
       "      <td>Yes</td>\n",
       "    </tr>\n",
       "    <tr>\n",
       "      <th>3</th>\n",
       "      <td>48.282192</td>\n",
       "      <td>male</td>\n",
       "      <td>169</td>\n",
       "      <td>82.0</td>\n",
       "      <td>150</td>\n",
       "      <td>100</td>\n",
       "      <td>normal</td>\n",
       "      <td>normal</td>\n",
       "      <td>No</td>\n",
       "      <td>No</td>\n",
       "      <td>Yes</td>\n",
       "      <td>Yes</td>\n",
       "    </tr>\n",
       "    <tr>\n",
       "      <th>4</th>\n",
       "      <td>47.873973</td>\n",
       "      <td>female</td>\n",
       "      <td>156</td>\n",
       "      <td>56.0</td>\n",
       "      <td>100</td>\n",
       "      <td>60</td>\n",
       "      <td>normal</td>\n",
       "      <td>normal</td>\n",
       "      <td>No</td>\n",
       "      <td>No</td>\n",
       "      <td>No</td>\n",
       "      <td>No</td>\n",
       "    </tr>\n",
       "  </tbody>\n",
       "</table>\n",
       "</div>"
      ],
      "text/plain": [
       "         age  gender  height  weight  ap_hi  ap_lo        cholesterol    gluc  \\\n",
       "0  50.391781    male     168    62.0    110     80             normal  normal   \n",
       "1  55.419178  female     156    85.0    140     90  well above normal  normal   \n",
       "2  51.663014  female     165    64.0    130     70  well above normal  normal   \n",
       "3  48.282192    male     169    82.0    150    100             normal  normal   \n",
       "4  47.873973  female     156    56.0    100     60             normal  normal   \n",
       "\n",
       "  smoke alco active cardio  \n",
       "0    No   No    Yes     No  \n",
       "1    No   No    Yes    Yes  \n",
       "2    No   No     No    Yes  \n",
       "3    No   No    Yes    Yes  \n",
       "4    No   No     No     No  "
      ]
     },
     "execution_count": 14,
     "metadata": {},
     "output_type": "execute_result"
    }
   ],
   "source": [
    "def convert_age_to_years(input_df):\n",
    "    df_age_formatted = input_df.copy()\n",
    "    df_age_formatted['age'] = df_age_formatted['age'] / 365\n",
    "    return df_age_formatted\n",
    "\n",
    "df_age_formatted = convert_age_to_years(df_with_categories)\n",
    "df_age_formatted.head()"
   ]
  },
  {
   "cell_type": "markdown",
   "id": "8a55cf30",
   "metadata": {},
   "source": [
    "According to the guidelines from [American College of Cardiology/American Heart Association (2017)](https://en.wikipedia.org/wiki/Blood_pressure)\n",
    "\n",
    "- **Normal:** systolic (<120) and diastolic (<80)\n",
    "- **Elevated:** systolic (120–129) or diastolic (80–89)\n",
    "- **Hypertension, stage 1:** systolic (130–139) or diastolic (80–89)\n",
    "- **Hypertension, stage 2:** systolic (≥140) or diastolic (≥90)\n",
    "\n",
    "Also, according to [this reference](https://linkinghub.elsevier.com/retrieve/pii/S1933171116303886):\n",
    "\n",
    "- **Hypotension:** systolic (<110) and diastolic (<70)\n",
    "\n",
    "So we will define a variable `blood_pressure_category` where the categories are defined based on the values of two variables: `ap_hi` (systolic blood pressure) and `ap_lo` (diastolic blood pressure), and the above information."
   ]
  },
  {
   "cell_type": "code",
   "execution_count": 15,
   "id": "259092df",
   "metadata": {},
   "outputs": [
    {
     "name": "stdout",
     "output_type": "stream",
     "text": [
      "Undefined count:  0\n"
     ]
    },
    {
     "data": {
      "text/html": [
       "<div>\n",
       "<style scoped>\n",
       "    .dataframe tbody tr th:only-of-type {\n",
       "        vertical-align: middle;\n",
       "    }\n",
       "\n",
       "    .dataframe tbody tr th {\n",
       "        vertical-align: top;\n",
       "    }\n",
       "\n",
       "    .dataframe thead th {\n",
       "        text-align: right;\n",
       "    }\n",
       "</style>\n",
       "<table border=\"1\" class=\"dataframe\">\n",
       "  <thead>\n",
       "    <tr style=\"text-align: right;\">\n",
       "      <th></th>\n",
       "      <th>age</th>\n",
       "      <th>gender</th>\n",
       "      <th>height</th>\n",
       "      <th>weight</th>\n",
       "      <th>cholesterol</th>\n",
       "      <th>gluc</th>\n",
       "      <th>smoke</th>\n",
       "      <th>alco</th>\n",
       "      <th>active</th>\n",
       "      <th>cardio</th>\n",
       "      <th>blood_pressure_category</th>\n",
       "    </tr>\n",
       "  </thead>\n",
       "  <tbody>\n",
       "    <tr>\n",
       "      <th>0</th>\n",
       "      <td>50.391781</td>\n",
       "      <td>male</td>\n",
       "      <td>168</td>\n",
       "      <td>62.0</td>\n",
       "      <td>normal</td>\n",
       "      <td>normal</td>\n",
       "      <td>No</td>\n",
       "      <td>No</td>\n",
       "      <td>Yes</td>\n",
       "      <td>No</td>\n",
       "      <td>Hypertension, stage 1</td>\n",
       "    </tr>\n",
       "    <tr>\n",
       "      <th>1</th>\n",
       "      <td>55.419178</td>\n",
       "      <td>female</td>\n",
       "      <td>156</td>\n",
       "      <td>85.0</td>\n",
       "      <td>well above normal</td>\n",
       "      <td>normal</td>\n",
       "      <td>No</td>\n",
       "      <td>No</td>\n",
       "      <td>Yes</td>\n",
       "      <td>Yes</td>\n",
       "      <td>Hypertension, stage 2</td>\n",
       "    </tr>\n",
       "    <tr>\n",
       "      <th>2</th>\n",
       "      <td>51.663014</td>\n",
       "      <td>female</td>\n",
       "      <td>165</td>\n",
       "      <td>64.0</td>\n",
       "      <td>well above normal</td>\n",
       "      <td>normal</td>\n",
       "      <td>No</td>\n",
       "      <td>No</td>\n",
       "      <td>No</td>\n",
       "      <td>Yes</td>\n",
       "      <td>Hypertension, stage 1</td>\n",
       "    </tr>\n",
       "    <tr>\n",
       "      <th>3</th>\n",
       "      <td>48.282192</td>\n",
       "      <td>male</td>\n",
       "      <td>169</td>\n",
       "      <td>82.0</td>\n",
       "      <td>normal</td>\n",
       "      <td>normal</td>\n",
       "      <td>No</td>\n",
       "      <td>No</td>\n",
       "      <td>Yes</td>\n",
       "      <td>Yes</td>\n",
       "      <td>Hypertension, stage 2</td>\n",
       "    </tr>\n",
       "    <tr>\n",
       "      <th>4</th>\n",
       "      <td>47.873973</td>\n",
       "      <td>female</td>\n",
       "      <td>156</td>\n",
       "      <td>56.0</td>\n",
       "      <td>normal</td>\n",
       "      <td>normal</td>\n",
       "      <td>No</td>\n",
       "      <td>No</td>\n",
       "      <td>No</td>\n",
       "      <td>No</td>\n",
       "      <td>Hypotension</td>\n",
       "    </tr>\n",
       "  </tbody>\n",
       "</table>\n",
       "</div>"
      ],
      "text/plain": [
       "         age  gender  height  weight        cholesterol    gluc smoke alco  \\\n",
       "0  50.391781    male     168    62.0             normal  normal    No   No   \n",
       "1  55.419178  female     156    85.0  well above normal  normal    No   No   \n",
       "2  51.663014  female     165    64.0  well above normal  normal    No   No   \n",
       "3  48.282192    male     169    82.0             normal  normal    No   No   \n",
       "4  47.873973  female     156    56.0             normal  normal    No   No   \n",
       "\n",
       "  active cardio blood_pressure_category  \n",
       "0    Yes     No   Hypertension, stage 1  \n",
       "1    Yes    Yes   Hypertension, stage 2  \n",
       "2     No    Yes   Hypertension, stage 1  \n",
       "3    Yes    Yes   Hypertension, stage 2  \n",
       "4     No     No             Hypotension  "
      ]
     },
     "execution_count": 15,
     "metadata": {},
     "output_type": "execute_result"
    }
   ],
   "source": [
    "def categorize_blood_pressure_row(row):\n",
    "    if row['ap_hi'] < 110 and row['ap_lo'] < 70:\n",
    "        return 'Hypotension'\n",
    "    elif row['ap_hi'] < 120 and row['ap_lo'] < 80:\n",
    "        return 'Normal'\n",
    "    elif row['ap_hi'] < 130 and row['ap_lo'] < 80:\n",
    "        return 'Elevated'\n",
    "    elif row['ap_hi'] < 140  or row['ap_lo'] < 90:\n",
    "        return 'Hypertension, stage 1'\n",
    "    elif row['ap_hi'] >= 140 or row['ap_lo'] >= 90:\n",
    "        return 'Hypertension, stage 2'\n",
    "    else:\n",
    "        return 'Undefined'\n",
    "    \n",
    "def categorize_blood_pressure(input_df):\n",
    "    df_with_blood_pressure_category = input_df.copy()\n",
    "    df_with_blood_pressure_category['blood_pressure_category'] = df_with_blood_pressure_category.apply(categorize_blood_pressure_row, axis=1)\n",
    "\n",
    "    df_with_blood_pressure_category = df_with_blood_pressure_category.drop(columns=[\"ap_lo\", \"ap_hi\"])\n",
    "\n",
    "    return df_with_blood_pressure_category\n",
    "\n",
    "df_with_blood_pressure_category = categorize_blood_pressure(df_age_formatted)\n",
    "print(\"Undefined count: \", len(df_with_blood_pressure_category[df_with_blood_pressure_category['blood_pressure_category'] == \"Undefined\"]))\n",
    "df_with_blood_pressure_category.head()"
   ]
  },
  {
   "cell_type": "markdown",
   "id": "67fa4a34",
   "metadata": {},
   "source": [
    "By doing this, we addressed the outlier values found in the ap_hi and ap_lo columns by categorizing them under the blood_pressure_category variable. Now, let's review the data statistics:"
   ]
  },
  {
   "cell_type": "code",
   "execution_count": 16,
   "id": "9eb2f59f",
   "metadata": {},
   "outputs": [
    {
     "data": {
      "text/html": [
       "<div>\n",
       "<style scoped>\n",
       "    .dataframe tbody tr th:only-of-type {\n",
       "        vertical-align: middle;\n",
       "    }\n",
       "\n",
       "    .dataframe tbody tr th {\n",
       "        vertical-align: top;\n",
       "    }\n",
       "\n",
       "    .dataframe thead th {\n",
       "        text-align: right;\n",
       "    }\n",
       "</style>\n",
       "<table border=\"1\" class=\"dataframe\">\n",
       "  <thead>\n",
       "    <tr style=\"text-align: right;\">\n",
       "      <th></th>\n",
       "      <th>age</th>\n",
       "      <th>height</th>\n",
       "      <th>weight</th>\n",
       "    </tr>\n",
       "  </thead>\n",
       "  <tbody>\n",
       "    <tr>\n",
       "      <th>count</th>\n",
       "      <td>70000.000000</td>\n",
       "      <td>70000.000000</td>\n",
       "      <td>70000.000000</td>\n",
       "    </tr>\n",
       "    <tr>\n",
       "      <th>mean</th>\n",
       "      <td>53.339358</td>\n",
       "      <td>164.359229</td>\n",
       "      <td>74.205690</td>\n",
       "    </tr>\n",
       "    <tr>\n",
       "      <th>std</th>\n",
       "      <td>6.759594</td>\n",
       "      <td>8.210126</td>\n",
       "      <td>14.395757</td>\n",
       "    </tr>\n",
       "    <tr>\n",
       "      <th>min</th>\n",
       "      <td>29.583562</td>\n",
       "      <td>55.000000</td>\n",
       "      <td>10.000000</td>\n",
       "    </tr>\n",
       "    <tr>\n",
       "      <th>25%</th>\n",
       "      <td>48.394521</td>\n",
       "      <td>159.000000</td>\n",
       "      <td>65.000000</td>\n",
       "    </tr>\n",
       "    <tr>\n",
       "      <th>50%</th>\n",
       "      <td>53.980822</td>\n",
       "      <td>165.000000</td>\n",
       "      <td>72.000000</td>\n",
       "    </tr>\n",
       "    <tr>\n",
       "      <th>75%</th>\n",
       "      <td>58.430137</td>\n",
       "      <td>170.000000</td>\n",
       "      <td>82.000000</td>\n",
       "    </tr>\n",
       "    <tr>\n",
       "      <th>max</th>\n",
       "      <td>64.967123</td>\n",
       "      <td>250.000000</td>\n",
       "      <td>200.000000</td>\n",
       "    </tr>\n",
       "  </tbody>\n",
       "</table>\n",
       "</div>"
      ],
      "text/plain": [
       "                age        height        weight\n",
       "count  70000.000000  70000.000000  70000.000000\n",
       "mean      53.339358    164.359229     74.205690\n",
       "std        6.759594      8.210126     14.395757\n",
       "min       29.583562     55.000000     10.000000\n",
       "25%       48.394521    159.000000     65.000000\n",
       "50%       53.980822    165.000000     72.000000\n",
       "75%       58.430137    170.000000     82.000000\n",
       "max       64.967123    250.000000    200.000000"
      ]
     },
     "execution_count": 16,
     "metadata": {},
     "output_type": "execute_result"
    }
   ],
   "source": [
    "df_with_blood_pressure_category.describe()"
   ]
  },
  {
   "cell_type": "markdown",
   "id": "ed264fe8",
   "metadata": {},
   "source": [
    "As we can see, the lower bound for the height feature is 55 centimeters and for the weight feature is 10 kilograms. These values seem unrealistic, given that the age range in the dataset is from 29 to 64 years, indicating that the dataset does not include children.\n",
    "\n",
    "For this reason, we will set a lower limit for these features (120 centimeters and 35 kilograms) and drop the rows that do not meet these criteria."
   ]
  },
  {
   "cell_type": "code",
   "execution_count": 17,
   "id": "c8e57dff",
   "metadata": {},
   "outputs": [
    {
     "name": "stdout",
     "output_type": "stream",
     "text": [
      "Rows dropped:  107\n",
      "Rows dropped: 0.1529%\n"
     ]
    }
   ],
   "source": [
    "def remove_height_and_weight_lower_outliers(input_df):\n",
    "    df_with_outliers_removed = input_df.copy()\n",
    "    df_with_outliers_removed = df_with_outliers_removed[df_with_outliers_removed['height'] > 120]\n",
    "    df_with_outliers_removed = df_with_outliers_removed[df_with_outliers_removed['weight'] > 35]\n",
    "    return df_with_outliers_removed\n",
    "\n",
    "df_with_outliers_removed = remove_height_and_weight_lower_outliers(df_with_blood_pressure_category)\n",
    "n_rows_dropped = len(df_with_blood_pressure_category) - len(df_with_outliers_removed)\n",
    "percentage_rows_dropped = n_rows_dropped * 100 / len(df_with_blood_pressure_category) \n",
    "print(\"Rows dropped: \", n_rows_dropped)\n",
    "print(\"Rows dropped: {:.4f}%\".format(percentage_rows_dropped))"
   ]
  },
  {
   "cell_type": "markdown",
   "id": "89d3241c",
   "metadata": {},
   "source": [
    "To finish the data cleaning proccess, we will group all the cleaning and formatation in the below function, and save the formatted df in a variable called df_formatted."
   ]
  },
  {
   "cell_type": "code",
   "execution_count": 18,
   "id": "04618ac1",
   "metadata": {},
   "outputs": [],
   "source": [
    "def get_formatted_df():\n",
    "    df0 = get_cardio_df()\n",
    "    df1 = drop_id_column(df0)\n",
    "    df2 = map_features_categories(df1)\n",
    "    df3 = convert_age_to_years(df2)\n",
    "    df4 = categorize_blood_pressure(df3)\n",
    "    df5 = remove_height_and_weight_lower_outliers(df4)\n",
    "    return df5\n",
    "\n",
    "df_formatted = get_formatted_df()"
   ]
  },
  {
   "cell_type": "markdown",
   "id": "71842e64",
   "metadata": {},
   "source": [
    "Let's explore the correlation between the numerical features in the dataset."
   ]
  },
  {
   "cell_type": "code",
   "execution_count": 19,
   "id": "4e6d2a31",
   "metadata": {},
   "outputs": [
    {
     "data": {
      "image/png": "[encoded data removed]",
      "text/plain": [
       "<Figure size 1000x800 with 2 Axes>"
      ]
     },
     "metadata": {},
     "output_type": "display_data"
    }
   ],
   "source": [
    "numerical_features = df_formatted.select_dtypes(include='number')\n",
    "corr_matrix = numerical_features.corr().round(3)\n",
    "\n",
    "plt.figure(figsize=(10, 8))\n",
    "sns.heatmap(corr_matrix, annot=True, cmap='coolwarm', vmin=-1, vmax=1)\n",
    "plt.title('Correlation Matrix of Numerical Features')\n",
    "plt.show()"
   ]
  },
  {
   "cell_type": "markdown",
   "id": "e57454c0",
   "metadata": {},
   "source": [
    "We observe a significant but small positive correlation (0.31) between height and weight. \n",
    "\n",
    "Now, let's examine how they correlates with the cardio feature, treated as a numeric value (0 or 1):"
   ]
  },
  {
   "cell_type": "code",
   "execution_count": 20,
   "id": "3a734e82",
   "metadata": {},
   "outputs": [
    {
     "data": {
      "text/plain": [
       "age       0.238185\n",
       "height   -0.012538\n",
       "weight    0.182224\n",
       "dtype: float64"
      ]
     },
     "execution_count": 20,
     "metadata": {},
     "output_type": "execute_result"
    }
   ],
   "source": [
    "df_with_cardio_numeric = df_formatted.copy()\n",
    "\n",
    "df_with_cardio_numeric['cardio_numeric'] = df_with_cardio_numeric['cardio'].apply(lambda x: 1 if x == 'Yes' else 0)\n",
    "cardio_corr = df_with_cardio_numeric[numerical_features.columns].corrwith(df_with_cardio_numeric['cardio_numeric'])\n",
    "\n",
    "cardio_corr"
   ]
  },
  {
   "cell_type": "markdown",
   "id": "b410df02",
   "metadata": {},
   "source": [
    "The correlation results show that age (0.238) and weight (0.182) have a positive correlation with the cardio feature, while height (-0.013) has a negligible negative correlation."
   ]
  },
  {
   "cell_type": "markdown",
   "id": "1ae2b1e9",
   "metadata": {},
   "source": [
    "#### 3.5 Examine categories across categorical columns"
   ]
  },
  {
   "cell_type": "code",
   "execution_count": 21,
   "id": "97dcdefb",
   "metadata": {},
   "outputs": [
    {
     "name": "stdout",
     "output_type": "stream",
     "text": [
      "gender: ['male' 'female']\n",
      "cholesterol: ['normal' 'well above normal' 'above normal']\n",
      "gluc: ['normal' 'above normal' 'well above normal']\n",
      "smoke: ['No' 'Yes']\n",
      "alco: ['No' 'Yes']\n",
      "active: ['Yes' 'No']\n",
      "cardio: ['No' 'Yes']\n",
      "blood_pressure_category: ['Hypertension, stage 1' 'Hypertension, stage 2' 'Hypotension' 'Normal'\n",
      " 'Elevated']\n"
     ]
    }
   ],
   "source": [
    "unique_counts = {col: df_formatted[col].nunique() for col in df_formatted.columns[df_formatted.dtypes == 'object']}\n",
    "for col, uniques in unique_counts.items():\n",
    "    print(f'{col}: {df_formatted[col].unique()}')"
   ]
  },
  {
   "cell_type": "markdown",
   "id": "f920c331",
   "metadata": {},
   "source": [
    "### 4. Exploring Data\n",
    "\n",
    "#### 4.1 Univariate Analysis\n",
    "\n",
    "First, let's examine the frequency of each category"
   ]
  },
  {
   "cell_type": "code",
   "execution_count": 22,
   "id": "7f47a54f",
   "metadata": {},
   "outputs": [
    {
     "data": {
      "image/png": "[encoded data removed]",
      "text/plain": [
       "<Figure size 1500x1500 with 8 Axes>"
      ]
     },
     "metadata": {},
     "output_type": "display_data"
    }
   ],
   "source": [
    "cat_attributes = df_formatted.select_dtypes(include='object')\n",
    "columns = cat_attributes.columns.tolist()\n",
    "\n",
    "num_columns_in_grid = 3\n",
    "num_rows = (len(columns) + num_columns_in_grid - 1) // num_columns_in_grid\n",
    "\n",
    "fig, axes = plt.subplots(num_rows, num_columns_in_grid, figsize=(15, 5 * num_rows), constrained_layout=True)\n",
    "axes = axes.flatten()\n",
    "\n",
    "for i, column in enumerate(columns):\n",
    "    ax = axes[i]\n",
    "    \n",
    "    sorted_data = cat_attributes[column].value_counts().sort_values(ascending=False)\n",
    "    sns.barplot(y=sorted_data.index, x=sorted_data.values, ax=ax, orient='h')\n",
    "    \n",
    "    total = cat_attributes[column].size\n",
    "    for p in ax.patches:\n",
    "        percentage = ' {:.1f}%'.format(100 * p.get_width() / total)\n",
    "        x = p.get_x() + p.get_width() + 0.01\n",
    "        y = p.get_y() + p.get_height() / 2\n",
    "        ax.annotate(percentage, (x, y))\n",
    "    \n",
    "    ax.set_xlim(0, total * 1.25) \n",
    "    ax.set_title(column) \n",
    "    ax.set_ylabel(\"\") \n",
    "    ax.ticklabel_format(style='sci', axis='x', scilimits=(0,0)) \n",
    "\n",
    "for j in range(len(columns), len(axes)):\n",
    "    fig.delaxes(axes[j])\n",
    "\n",
    "plt.ylabel(\"\")\n",
    "plt.show()"
   ]
  },
  {
   "cell_type": "markdown",
   "id": "d3d645ba",
   "metadata": {},
   "source": [
    "##### Insights\n",
    "\n",
    "- 65% of the data is from female participants.\n",
    "- Over 75% of the data shows normal cholesterol and glucose levels.\n",
    "- The majority of individuals do not smoke (91.2%) and do not drink alcohol (94.6%).\n",
    "- Approximately 80% of the individuals engage in physical activity.\n",
    "- The dataset is balanced in terms of cardiovascular disease occurrence (50%).\n",
    "- Approximately 60% of the observations are from people with Hypertension, stage 1. Only 11.2% of the people in the dataset have normal blood pressure."
   ]
  },
  {
   "cell_type": "markdown",
   "id": "0620c3fd",
   "metadata": {},
   "source": [
    "Now, let's examine the boxplot for the numerical features:"
   ]
  },
  {
   "cell_type": "code",
   "execution_count": 23,
   "id": "53f4c8ee",
   "metadata": {},
   "outputs": [
    {
     "data": {
      "image/png": "[encoded data removed]",
      "text/plain": [
       "<Figure size 1500x600 with 3 Axes>"
      ]
     },
     "metadata": {},
     "output_type": "display_data"
    }
   ],
   "source": [
    "num_features = get_numerical_features(df_formatted)\n",
    "\n",
    "num_cols = 1\n",
    "num_rows = (len(num_features) + num_cols - 1) // num_cols\n",
    "\n",
    "plt.figure(figsize=(15, 2 * num_rows))\n",
    "\n",
    "for i, feature in enumerate(num_features):\n",
    "    plt.subplot(num_rows, num_cols, i + 1)\n",
    "    ax = sns.boxplot(x=feature, data=df_formatted)\n",
    "    ax.set_ylabel(feature)\n",
    "    ax.set_title(f'Boxplot of {feature}')\n",
    "\n",
    "plt.tight_layout()\n",
    "plt.show()"
   ]
  },
  {
   "cell_type": "markdown",
   "id": "7550d130",
   "metadata": {},
   "source": [
    "#### Insights\n",
    "\n",
    "- The age variable shows outliers representing younger individuals, around 30 years old, with an interquartile range spanning from just under 50 to nearly 60.\n",
    "- The height variable exhibits outliers at both ends of the spectrum, with one notably high observation above 240 centimeters.\n",
    "- The weight variable has numerous upper outliers, ranging from individuals weighing over 100 kilograms to as much as 175 kilograms, with one extreme observation nearing 200 kilograms."
   ]
  },
  {
   "cell_type": "markdown",
   "id": "bd424589",
   "metadata": {},
   "source": [
    "#### 4.2 Multivariate Analysis\n",
    "\n",
    "Initially, we'll visualize the percentage distribution of cardiovascular disease across categorical variables."
   ]
  },
  {
   "cell_type": "code",
   "execution_count": 24,
   "id": "6ec2ebbd",
   "metadata": {},
   "outputs": [
    {
     "data": {
      "image/png": "[encoded data removed]",
      "text/plain": [
       "<Figure size 1500x2000 with 8 Axes>"
      ]
     },
     "metadata": {},
     "output_type": "display_data"
    }
   ],
   "source": [
    "cat_attributes = df_formatted.select_dtypes(include='object').columns\n",
    "cat_attributes = cat_attributes.drop(\"cardio\")\n",
    "\n",
    "num_plots = len(cat_attributes)\n",
    "num_cols = 2\n",
    "num_rows = (num_plots + num_cols - 1) // num_cols\n",
    "\n",
    "fig, axes = plt.subplots(num_rows, num_cols, figsize=(15, num_rows*5))\n",
    "fig.suptitle('Percentage distribution of cardiovascular disease by categorical variables', y=1.02)\n",
    "\n",
    "axes = axes.flatten()\n",
    "\n",
    "for i, var in enumerate(cat_attributes):\n",
    "    cross_tab = pd.crosstab(df_formatted[var], df_formatted['cardio'])\n",
    "    \n",
    "    total_per_category = cross_tab.sum(axis=1)\n",
    "    cross_tab_percent = cross_tab.div(total_per_category, axis=0) * 100\n",
    "    \n",
    "    cross_tab_percent.plot(kind='bar', stacked=True, ax=axes[i])\n",
    "    axes[i].set_title(f'Percentage distribution of cardiovascular disease for {var}')\n",
    "    axes[i].set_xlabel(var)\n",
    "    axes[i].set_ylabel('Percentage')\n",
    "    axes[i].legend(title='Cardio', labels=['No', 'Yes'])\n",
    "    axes[i].set_ylim(0, 100) \n",
    "    \n",
    "    for p in axes[i].patches:\n",
    "        width, height = p.get_width(), p.get_height()\n",
    "        x, y = p.get_xy()\n",
    "        axes[i].annotate(f'{height:.1f}%', (x + width / 2, y + height / 2),\n",
    "                         ha='center', va='center', fontsize=12, color='white', weight='bold')\n",
    "\n",
    "for j in range(i + 1, len(axes)):\n",
    "    axes[j].axis('off')\n",
    "\n",
    "plt.tight_layout()\n",
    "plt.show()"
   ]
  },
  {
   "cell_type": "markdown",
   "id": "b2df84a7",
   "metadata": {},
   "source": [
    "#### Insights\n",
    "\n",
    "- Cardiovascular disease prevalence is evenly distributed between genders.\n",
    "- There is a notable increase in cardiovascular disease prevalence with higher cholesterol levels: from 44% for normal to 60% for above normal, and further to 76.5% for well above normal.\n",
    "- Cardiovascular disease prevalence remains lower for individuals with normal glucose levels, with minimal increase observed from above normal to well above normal.\n",
    "- Interestingly, individuals who do not consume alcohol or smoke show slightly higher cardiovascular disease prevalence, but the difference is less than 3%.\n",
    "- Engaging in physical activity appears to reduce cardiovascular disease risk, with a 4.5% lower prevalence observed among active individuals.\n",
    "- Cardiovascular disease prevalence increases significantly with blood pressure levels: 17.9% for normal and 23.1% for hypotension, rising to 32.4% for elevated, 45.2% for hypertension stage 1, and peaking at 84.4% for hypertension stage 2.\n",
    "\n",
    "Next, we will create boxplots to visualize the distribution of age, weight, and height across the categories of cardiovascular disease presence (yes and no)"
   ]
  },
  {
   "cell_type": "code",
   "execution_count": 25,
   "id": "06d183e1",
   "metadata": {},
   "outputs": [
    {
     "data": {
      "image/png": "[encoded data removed]",
      "text/plain": [
       "<Figure size 1500x500 with 3 Axes>"
      ]
     },
     "metadata": {},
     "output_type": "display_data"
    }
   ],
   "source": [
    "num_features = get_numerical_features(df_formatted)\n",
    "\n",
    "num_cols = 3\n",
    "num_rows = (len(num_features) + num_cols - 1) // num_cols\n",
    "\n",
    "plt.figure(figsize=(15, 5 * num_rows))\n",
    "\n",
    "for i, feature in enumerate(num_features):\n",
    "    plt.subplot(num_rows, num_cols, i + 1)\n",
    "    ax = sns.boxplot(x='cardio', y=feature, data=df)\n",
    "    \n",
    "    for j, box in enumerate(ax.artists):\n",
    "        median_val = df[df['cardio'] == ax.get_xticklabels()[j].get_text()][feature].median()\n",
    "        ax.text(j, median_val + 1, f'{median_val}', horizontalalignment='center', color='black', weight='bold')\n",
    "\n",
    "    ax.set_xlabel('Cardio')\n",
    "    ax.set_ylabel(feature)\n",
    "    ax.set_title(f'Boxplot of {feature} by Cardio')\n",
    "\n",
    "plt.tight_layout()\n",
    "plt.show()"
   ]
  },
  {
   "cell_type": "markdown",
   "id": "a4cc57fc",
   "metadata": {},
   "source": [
    "#### Insights\n",
    "\n",
    "- Individuals with cardiovascular disease tend to have higher age and weight.\n",
    "- There appears to be little variation in height among individuals with cardiovascular problems."
   ]
  },
  {
   "cell_type": "markdown",
   "id": "d0591094",
   "metadata": {},
   "source": [
    "### 4.3 Statistical Tests\n",
    "\n",
    "We will conduct statistical tests to explore the relationship between the presence of cardiovascular disease and other variables in the dataset.\n"
   ]
  },
  {
   "cell_type": "markdown",
   "id": "e0e9a22d",
   "metadata": {},
   "source": [
    "#### 4.3.1 Mean of numerical features\n",
    "Let's visualize the overall mean values of the numerical variables in the dataset, as well as the means categorized by the presence and absence of cardiovascular disease."
   ]
  },
  {
   "cell_type": "code",
   "execution_count": 26,
   "id": "11dab436",
   "metadata": {},
   "outputs": [
    {
     "name": "stdout",
     "output_type": "stream",
     "text": [
      "Means Summary:\n",
      "         cardio   age_mean  weight_mean  height_mean\n",
      "0            No  51.731105    71.597589   164.538182\n",
      "1           Yes  54.950793    76.827324   164.340834\n",
      "2  overall mean  53.340143    74.211147   164.439558\n"
     ]
    }
   ],
   "source": [
    "summary = df_formatted.groupby('cardio').agg({\n",
    "    'age': ['mean', 'var'],\n",
    "    'weight': ['mean', 'var'],\n",
    "    'height': ['mean', 'var']\n",
    "}).reset_index()\n",
    "\n",
    "summary.columns = ['cardio', 'age_mean', 'age_var', 'weight_mean', 'weight_var', 'height_mean', 'height_var']\n",
    "\n",
    "means_summary = summary[['cardio', 'age_mean', 'weight_mean', 'height_mean']]\n",
    "\n",
    "overall_means = df_formatted[['age', 'weight', 'height']].mean().to_frame().T\n",
    "overall_means['cardio'] = 'overall mean'\n",
    "overall_means.columns = ['age_mean', 'weight_mean', 'height_mean', 'cardio']\n",
    "\n",
    "means_summary = pd.concat([means_summary, overall_means], ignore_index=True)\n",
    "\n",
    "print(\"Means Summary:\")\n",
    "print(means_summary)"
   ]
  },
  {
   "cell_type": "markdown",
   "id": "85cc3fd2",
   "metadata": {},
   "source": [
    "Additionally, let's visualize the variance of these numerical variables across the dataset, and specifically compare the variance between cases with and without cardiovascular disease."
   ]
  },
  {
   "cell_type": "code",
   "execution_count": 27,
   "id": "cba59271",
   "metadata": {},
   "outputs": [
    {
     "name": "stdout",
     "output_type": "stream",
     "text": [
      "Variances Summary:\n",
      "        cardio    age_var  weight_var  height_var\n",
      "0           No  45.918971  175.889874   60.166634\n",
      "1          Yes  40.260433  222.301646   63.693981\n",
      "2  overall var  45.682137  205.918919   61.938275\n"
     ]
    }
   ],
   "source": [
    "summary = df_formatted.groupby('cardio').agg({\n",
    "    'age': ['mean', 'var'],\n",
    "    'weight': ['mean', 'var'],\n",
    "    'height': ['mean', 'var']\n",
    "}).reset_index()\n",
    "\n",
    "summary.columns = ['cardio', 'age_mean', 'age_var', 'weight_mean', 'weight_var', 'height_mean', 'height_var']\n",
    "\n",
    "variances_summary = summary[['cardio', 'age_var', 'weight_var', 'height_var']]\n",
    "\n",
    "overall_vars = df_formatted[['age', 'weight', 'height']].var().to_frame().T\n",
    "overall_vars['cardio'] = 'overall var'\n",
    "overall_vars.columns = ['age_var', 'weight_var', 'height_var', 'cardio']\n",
    "\n",
    "variances_summary = pd.concat([variances_summary, overall_vars], ignore_index=True)\n",
    "\n",
    "print(\"Variances Summary:\")\n",
    "print(variances_summary)"
   ]
  },
  {
   "cell_type": "markdown",
   "id": "c39a8a53",
   "metadata": {},
   "source": [
    "Now, let's perform a t-test to verify if the mean of the variable in the two different groups, cardio (yes) and cardio (no). For that, we need to determine if the variance is statistically different between groups, so we will use an F-test.\n",
    "\n",
    "The null hypotheses are:\n",
    "- H0: The variance of height for cardio (yes) is equal to the variance of height for cardio (no).\n",
    "- H0: The variance of weight for cardio (yes) is equal to the variance of weight for cardio (no).\n",
    "- H0: The variance of age for cardio (yes) is equal to the variance of age for cardio (no)."
   ]
  },
  {
   "cell_type": "code",
   "execution_count": 28,
   "id": "1f722b17",
   "metadata": {},
   "outputs": [
    {
     "name": "stdout",
     "output_type": "stream",
     "text": [
      "Age F-test p-value: 0.00000\n",
      "Weight F-test p-value: 0.00000\n",
      "Height F-test p-value: 0.00092\n"
     ]
    }
   ],
   "source": [
    "group_0 = df_formatted[df_formatted['cardio'] == 'No']\n",
    "group_1 = df_formatted[df_formatted['cardio'] == 'Yes']\n",
    "\n",
    "F_age, p_value_age = f_oneway(group_0['age'], group_1['age'])\n",
    "F_weight, p_value_weight = f_oneway(group_0['weight'], group_1['weight'])\n",
    "F_height, p_value_height = f_oneway(group_0['height'], group_1['height'])\n",
    "\n",
    "print(f'Age F-test p-value: {p_value_age:.5f}')\n",
    "print(f'Weight F-test p-value: {p_value_weight:.5f}')\n",
    "print(f'Height F-test p-value: {p_value_height:.5f}')"
   ]
  },
  {
   "cell_type": "markdown",
   "id": "c72f70e1",
   "metadata": {},
   "source": [
    "The p-values for all tests are below 0.05, indicating that we reject the null hypothesis. Therefore, we can proceed with a Student's t-test, assuming unequal variances."
   ]
  },
  {
   "cell_type": "code",
   "execution_count": 29,
   "id": "83c0b957",
   "metadata": {},
   "outputs": [
    {
     "name": "stdout",
     "output_type": "stream",
     "text": [
      "Age t-test p-value: 0.00000\n",
      "Weight t-test p-value: 0.00000\n",
      "Height t-test p-value: 0.00092\n"
     ]
    }
   ],
   "source": [
    "age_ttest = ttest_ind(group_0['age'], group_1['age'], equal_var=False)\n",
    "weight_ttest = ttest_ind(group_0['weight'], group_1['weight'], equal_var=False)\n",
    "height_ttest = ttest_ind(group_0['height'], group_1['height'], equal_var=False)\n",
    "\n",
    "print(f'Age t-test p-value: {age_ttest.pvalue:.5f}')\n",
    "print(f'Weight t-test p-value: {weight_ttest.pvalue:.5f}')\n",
    "print(f'Height t-test p-value: {height_ttest.pvalue:.5f}')"
   ]
  },
  {
   "cell_type": "markdown",
   "id": "8c14f161",
   "metadata": {},
   "source": [
    "Once more, with p-values consistently below 0.05, we conclude that there are significant differences in the means of age, weight, and height between individuals with and without cardiovascular disease. This suggests a notable correlation among these variables and the presence of the disease."
   ]
  },
  {
   "cell_type": "markdown",
   "id": "29ecbf0e",
   "metadata": {},
   "source": [
    "#### 4.3.2 Categories association\n",
    "\n",
    "We will perform a chi-squared test to determine if there is a significant association between the categorical variables and the cardio variable.\n",
    "\n",
    "The null hypothesis (H₀) is that there is no association between the categorical variables and the cardio variable. In other words, any observed relationship is due to chance."
   ]
  },
  {
   "cell_type": "code",
   "execution_count": 31,
   "id": "c7fc1fa2",
   "metadata": {},
   "outputs": [
    {
     "name": "stdout",
     "output_type": "stream",
     "text": [
      "Variable gender\n",
      "p-value of chi-squared statistic: 0.0340\n",
      "\n",
      "Variable cholesterol\n",
      "p-value of chi-squared statistic: 0.0000\n",
      "\n",
      "Variable gluc\n",
      "p-value of chi-squared statistic: 0.0000\n",
      "\n",
      "Variable smoke\n",
      "p-value of chi-squared statistic: 0.0000\n",
      "\n",
      "Variable alco\n",
      "p-value of chi-squared statistic: 0.0625\n",
      "\n",
      "Variable active\n",
      "p-value of chi-squared statistic: 0.0000\n",
      "\n",
      "Variable cardio\n",
      "p-value of chi-squared statistic: 0.0000\n",
      "\n",
      "Variable blood_pressure_category\n",
      "p-value of chi-squared statistic: 0.0000\n",
      "\n"
     ]
    }
   ],
   "source": [
    "categorical_columns = get_categorical_features(df_formatted)\n",
    "\n",
    "for col in categorical_columns:\n",
    "    tabela_mca = chi2_contingency(pd.crosstab(df_formatted[col], df_formatted['cardio']))\n",
    "    p_valor = tabela_mca[1]\n",
    "    print(f\"Variable {col}\")\n",
    "    print(f\"p-value of chi-squared statistic: {p_valor:.4f}\\n\")"
   ]
  },
  {
   "cell_type": "markdown",
   "id": "fa253988",
   "metadata": {},
   "source": [
    "The variables gender (p = 0.0340), cholesterol, gluc, smoke, active, cardio, and blood_pressure_category (all p = 0.0000) show significant associations with the cardio variable. Only the variable alco (p = 0.0625) does not show a significant association at the 0.05 significance level."
   ]
  },
  {
   "cell_type": "markdown",
   "id": "d4e4bcdd",
   "metadata": {},
   "source": [
    "### 4.4 Clustering\n",
    "\n",
    "We will employ clustering techniques to group the numerical variables in the dataset into clusters. Subsequently, we will examine the relationship between these clusters and the presence of disease.\n"
   ]
  },
  {
   "cell_type": "code",
   "execution_count": 32,
   "id": "ff4bc06b",
   "metadata": {},
   "outputs": [
    {
     "data": {
      "text/html": [
       "<div>\n",
       "<style scoped>\n",
       "    .dataframe tbody tr th:only-of-type {\n",
       "        vertical-align: middle;\n",
       "    }\n",
       "\n",
       "    .dataframe tbody tr th {\n",
       "        vertical-align: top;\n",
       "    }\n",
       "\n",
       "    .dataframe thead th {\n",
       "        text-align: right;\n",
       "    }\n",
       "</style>\n",
       "<table border=\"1\" class=\"dataframe\">\n",
       "  <thead>\n",
       "    <tr style=\"text-align: right;\">\n",
       "      <th></th>\n",
       "      <th>age</th>\n",
       "      <th>height</th>\n",
       "      <th>weight</th>\n",
       "    </tr>\n",
       "  </thead>\n",
       "  <tbody>\n",
       "    <tr>\n",
       "      <th>0</th>\n",
       "      <td>18393</td>\n",
       "      <td>168</td>\n",
       "      <td>62.0</td>\n",
       "    </tr>\n",
       "    <tr>\n",
       "      <th>1</th>\n",
       "      <td>20228</td>\n",
       "      <td>156</td>\n",
       "      <td>85.0</td>\n",
       "    </tr>\n",
       "    <tr>\n",
       "      <th>2</th>\n",
       "      <td>18857</td>\n",
       "      <td>165</td>\n",
       "      <td>64.0</td>\n",
       "    </tr>\n",
       "    <tr>\n",
       "      <th>3</th>\n",
       "      <td>17623</td>\n",
       "      <td>169</td>\n",
       "      <td>82.0</td>\n",
       "    </tr>\n",
       "    <tr>\n",
       "      <th>4</th>\n",
       "      <td>17474</td>\n",
       "      <td>156</td>\n",
       "      <td>56.0</td>\n",
       "    </tr>\n",
       "  </tbody>\n",
       "</table>\n",
       "</div>"
      ],
      "text/plain": [
       "     age  height  weight\n",
       "0  18393     168    62.0\n",
       "1  20228     156    85.0\n",
       "2  18857     165    64.0\n",
       "3  17623     169    82.0\n",
       "4  17474     156    56.0"
      ]
     },
     "execution_count": 32,
     "metadata": {},
     "output_type": "execute_result"
    }
   ],
   "source": [
    "num_features = get_numerical_features(df_formatted)\n",
    "df_num = df[num_features]\n",
    "df_num.head()"
   ]
  },
  {
   "cell_type": "code",
   "execution_count": 33,
   "id": "8b8cb47a",
   "metadata": {},
   "outputs": [
    {
     "data": {
      "text/html": [
       "<div>\n",
       "<style scoped>\n",
       "    .dataframe tbody tr th:only-of-type {\n",
       "        vertical-align: middle;\n",
       "    }\n",
       "\n",
       "    .dataframe tbody tr th {\n",
       "        vertical-align: top;\n",
       "    }\n",
       "\n",
       "    .dataframe thead th {\n",
       "        text-align: right;\n",
       "    }\n",
       "</style>\n",
       "<table border=\"1\" class=\"dataframe\">\n",
       "  <thead>\n",
       "    <tr style=\"text-align: right;\">\n",
       "      <th></th>\n",
       "      <th>age</th>\n",
       "      <th>height</th>\n",
       "      <th>weight</th>\n",
       "    </tr>\n",
       "  </thead>\n",
       "  <tbody>\n",
       "    <tr>\n",
       "      <th>0</th>\n",
       "      <td>-0.436058</td>\n",
       "      <td>0.443449</td>\n",
       "      <td>-0.847867</td>\n",
       "    </tr>\n",
       "    <tr>\n",
       "      <th>1</th>\n",
       "      <td>0.307684</td>\n",
       "      <td>-1.018161</td>\n",
       "      <td>0.749826</td>\n",
       "    </tr>\n",
       "    <tr>\n",
       "      <th>2</th>\n",
       "      <td>-0.247995</td>\n",
       "      <td>0.078046</td>\n",
       "      <td>-0.708937</td>\n",
       "    </tr>\n",
       "    <tr>\n",
       "      <th>3</th>\n",
       "      <td>-0.748147</td>\n",
       "      <td>0.565250</td>\n",
       "      <td>0.541431</td>\n",
       "    </tr>\n",
       "    <tr>\n",
       "      <th>4</th>\n",
       "      <td>-0.808538</td>\n",
       "      <td>-1.018161</td>\n",
       "      <td>-1.264657</td>\n",
       "    </tr>\n",
       "  </tbody>\n",
       "</table>\n",
       "</div>"
      ],
      "text/plain": [
       "        age    height    weight\n",
       "0 -0.436058  0.443449 -0.847867\n",
       "1  0.307684 -1.018161  0.749826\n",
       "2 -0.247995  0.078046 -0.708937\n",
       "3 -0.748147  0.565250  0.541431\n",
       "4 -0.808538 -1.018161 -1.264657"
      ]
     },
     "execution_count": 33,
     "metadata": {},
     "output_type": "execute_result"
    }
   ],
   "source": [
    "df_num_zscore = df_num.apply(zscore, ddof=1)\n",
    "df_num_zscore.head()"
   ]
  },
  {
   "cell_type": "markdown",
   "id": "d7ebfa9b",
   "metadata": {},
   "source": [
    "We will use the K-means clustering technique. Initially, we will apply the elbow method followed by the silhouette method to determine the optimal number of clusters."
   ]
  },
  {
   "cell_type": "code",
   "execution_count": 34,
   "id": "4fd3514e",
   "metadata": {},
   "outputs": [
    {
     "data": {
      "image/png": "[encoded data removed]",
      "text/plain": [
       "<Figure size 1600x800 with 1 Axes>"
      ]
     },
     "metadata": {},
     "output_type": "display_data"
    }
   ],
   "source": [
    "elbow = []\n",
    "K = range(1,6)\n",
    "for k in K:\n",
    "    kmeanElbow = KMeans(n_clusters=k, init='random', random_state=seed).fit(df_num_zscore)\n",
    "    elbow.append(kmeanElbow.inertia_)\n",
    "    \n",
    "plt.figure(figsize=(16,8))\n",
    "plt.plot(K, elbow, marker='o')\n",
    "plt.xticks(range(1,6))\n",
    "plt.xlabel('Number of Clusters', fontsize=16)\n",
    "plt.ylabel('WCSS', fontsize=16)\n",
    "plt.title('Elbow method', fontsize=16)\n",
    "plt.show()"
   ]
  },
  {
   "cell_type": "markdown",
   "id": "dcd80098",
   "metadata": {},
   "source": [
    "After applying the elbow method, the graph indicates that 3 clusters may be optimal."
   ]
  },
  {
   "cell_type": "code",
   "execution_count": 35,
   "id": "03b672eb",
   "metadata": {},
   "outputs": [
    {
     "data": {
      "image/png": "[encoded data removed]",
      "text/plain": [
       "<Figure size 1600x800 with 1 Axes>"
      ]
     },
     "metadata": {},
     "output_type": "display_data"
    }
   ],
   "source": [
    "silhueta = []\n",
    "I = range(2,6)\n",
    "for i in I: \n",
    "    kmeansSil = KMeans(n_clusters=i, init='random', random_state=seed).fit(df_num_zscore)\n",
    "    silhueta.append(silhouette_score(df_num_zscore, kmeansSil.labels_))\n",
    "\n",
    "plt.figure(figsize=(16,8))\n",
    "plt.plot(range(2, 6), silhueta, color = 'purple', marker='o')\n",
    "plt.xlabel('Number of Clusters', fontsize=16)\n",
    "plt.ylabel('Mean Silhouette', fontsize=16)\n",
    "plt.title('Silhouette Method', fontsize=16)\n",
    "plt.axvline(x = silhueta.index(max(silhueta))+2, linestyle = 'dotted', color = 'red') \n",
    "plt.show()"
   ]
  },
  {
   "cell_type": "markdown",
   "id": "cc6ae502",
   "metadata": {},
   "source": [
    "The silhouette method confirms the suitability of using 3 clusters. \n",
    "\n",
    "Below, a function is constructed to cluster the numerical features into 3 groups using K-means."
   ]
  },
  {
   "cell_type": "code",
   "execution_count": null,
   "id": "dcb537de",
   "metadata": {},
   "outputs": [
    {
     "data": {
      "text/html": [
       "<div>\n",
       "<style scoped>\n",
       "    .dataframe tbody tr th:only-of-type {\n",
       "        vertical-align: middle;\n",
       "    }\n",
       "\n",
       "    .dataframe tbody tr th {\n",
       "        vertical-align: top;\n",
       "    }\n",
       "\n",
       "    .dataframe thead th {\n",
       "        text-align: right;\n",
       "    }\n",
       "</style>\n",
       "<table border=\"1\" class=\"dataframe\">\n",
       "  <thead>\n",
       "    <tr style=\"text-align: right;\">\n",
       "      <th></th>\n",
       "      <th>age</th>\n",
       "      <th>gender</th>\n",
       "      <th>height</th>\n",
       "      <th>weight</th>\n",
       "      <th>cholesterol</th>\n",
       "      <th>gluc</th>\n",
       "      <th>smoke</th>\n",
       "      <th>alco</th>\n",
       "      <th>active</th>\n",
       "      <th>cardio</th>\n",
       "      <th>blood_pressure_category</th>\n",
       "      <th>Cluster</th>\n",
       "    </tr>\n",
       "  </thead>\n",
       "  <tbody>\n",
       "    <tr>\n",
       "      <th>0</th>\n",
       "      <td>50.391781</td>\n",
       "      <td>male</td>\n",
       "      <td>168</td>\n",
       "      <td>62.0</td>\n",
       "      <td>normal</td>\n",
       "      <td>normal</td>\n",
       "      <td>No</td>\n",
       "      <td>No</td>\n",
       "      <td>Yes</td>\n",
       "      <td>No</td>\n",
       "      <td>Hypertension, stage 1</td>\n",
       "      <td>2</td>\n",
       "    </tr>\n",
       "    <tr>\n",
       "      <th>1</th>\n",
       "      <td>55.419178</td>\n",
       "      <td>female</td>\n",
       "      <td>156</td>\n",
       "      <td>85.0</td>\n",
       "      <td>well above normal</td>\n",
       "      <td>normal</td>\n",
       "      <td>No</td>\n",
       "      <td>No</td>\n",
       "      <td>Yes</td>\n",
       "      <td>Yes</td>\n",
       "      <td>Hypertension, stage 2</td>\n",
       "      <td>1</td>\n",
       "    </tr>\n",
       "    <tr>\n",
       "      <th>2</th>\n",
       "      <td>51.663014</td>\n",
       "      <td>female</td>\n",
       "      <td>165</td>\n",
       "      <td>64.0</td>\n",
       "      <td>well above normal</td>\n",
       "      <td>normal</td>\n",
       "      <td>No</td>\n",
       "      <td>No</td>\n",
       "      <td>No</td>\n",
       "      <td>Yes</td>\n",
       "      <td>Hypertension, stage 1</td>\n",
       "      <td>2</td>\n",
       "    </tr>\n",
       "    <tr>\n",
       "      <th>3</th>\n",
       "      <td>48.282192</td>\n",
       "      <td>male</td>\n",
       "      <td>169</td>\n",
       "      <td>82.0</td>\n",
       "      <td>normal</td>\n",
       "      <td>normal</td>\n",
       "      <td>No</td>\n",
       "      <td>No</td>\n",
       "      <td>Yes</td>\n",
       "      <td>Yes</td>\n",
       "      <td>Hypertension, stage 2</td>\n",
       "      <td>0</td>\n",
       "    </tr>\n",
       "    <tr>\n",
       "      <th>4</th>\n",
       "      <td>47.873973</td>\n",
       "      <td>female</td>\n",
       "      <td>156</td>\n",
       "      <td>56.0</td>\n",
       "      <td>normal</td>\n",
       "      <td>normal</td>\n",
       "      <td>No</td>\n",
       "      <td>No</td>\n",
       "      <td>No</td>\n",
       "      <td>No</td>\n",
       "      <td>Hypotension</td>\n",
       "      <td>2</td>\n",
       "    </tr>\n",
       "  </tbody>\n",
       "</table>\n",
       "</div>"
      ],
      "text/plain": [
       "         age  gender  height  weight        cholesterol    gluc smoke alco  \\\n",
       "0  50.391781    male     168    62.0             normal  normal    No   No   \n",
       "1  55.419178  female     156    85.0  well above normal  normal    No   No   \n",
       "2  51.663014  female     165    64.0  well above normal  normal    No   No   \n",
       "3  48.282192    male     169    82.0             normal  normal    No   No   \n",
       "4  47.873973  female     156    56.0             normal  normal    No   No   \n",
       "\n",
       "  active cardio blood_pressure_category Cluster  \n",
       "0    Yes     No   Hypertension, stage 1       2  \n",
       "1    Yes    Yes   Hypertension, stage 2       1  \n",
       "2     No    Yes   Hypertension, stage 1       2  \n",
       "3    Yes    Yes   Hypertension, stage 2       0  \n",
       "4     No     No             Hypotension       2  "
      ]
     },
     "execution_count": 78,
     "metadata": {},
     "output_type": "execute_result"
    }
   ],
   "source": [
    "def get_formatted_df_with_clusters():\n",
    "    df_formatted_with_cluster = get_formatted_df()\n",
    "\n",
    "    num_features = get_numerical_features(df_formatted_with_cluster)\n",
    "    df_num = df_formatted_with_cluster[num_features]\n",
    "    df_num_zscore = df_num.apply(zscore, ddof=1)\n",
    "    \n",
    "    kmeans_final = KMeans(n_clusters = 3, init = 'random', random_state=seed).fit(df_num_zscore)\n",
    "\n",
    "    kmeans_clusters = kmeans_final.labels_\n",
    "    df_formatted_with_cluster['Cluster'] = kmeans_clusters\n",
    "    df_formatted_with_cluster['Cluster'] = df_formatted_with_cluster['Cluster'].astype('object')\n",
    "\n",
    "    return df_formatted_with_cluster\n",
    "\n",
    "df_formatted_with_cluster = get_formatted_df_with_clusters()\n",
    "df_formatted_with_cluster.head()"
   ]
  },
  {
   "cell_type": "markdown",
   "id": "644f1d0f",
   "metadata": {},
   "source": [
    "We will perform an ANOVA test to investigate whether there are statistically significant differences in the means of the variables across the clusters. This analysis aims to ascertain whether the variables have contributed meaningfully to the formation of these distinct clusters. Our null hypothesis states that there is no significant difference in means among the clusters, implying that any observed differences are due to random chance. The alternative hypothesis suggests that at least one variable's mean differs significantly across the clusters, indicating its influence in cluster formation."
   ]
  },
  {
   "cell_type": "code",
   "execution_count": null,
   "id": "f8059fff",
   "metadata": {},
   "outputs": [
    {
     "name": "stdout",
     "output_type": "stream",
     "text": [
      "KeyError: 'Cluster'. Please check the DataFrame structure.\n",
      "P-value age: 0.0\n",
      "P-value height: 0.0009172185569217185\n",
      "P-value weight: 0.0\n"
     ]
    }
   ],
   "source": [
    "anova_age = pg.anova(dv='age', between='Cluster', data=df_formatted_with_cluster, detailed=True).T\n",
    "anova_height = pg.anova(dv='height', between='Cluster', data=df_formatted_with_cluster, detailed=True).T\n",
    "anova_weight = pg.anova(dv='weight', between='Cluster', data=df_formatted_with_cluster, detailed=True).T\n",
    "\n",
    "try:\n",
    "    p_value_age = anova_age.loc['p-unc', 'Cluster']\n",
    "    p_value_height = anova_height.loc['p-unc', 'Cluster']\n",
    "    p_value_weight = anova_weight.loc['p-unc', 'Cluster']\n",
    "except KeyError as e:\n",
    "    print(f\"KeyError: {e}. Please check the DataFrame structure.\")\n",
    "\n",
    "print(f\"P-value age: {p_value_age}\")\n",
    "print(f\"P-value height: {p_value_height}\")\n",
    "print(f\"P-value weight: {p_value_weight}\")"
   ]
  },
  {
   "cell_type": "markdown",
   "id": "382668d8",
   "metadata": {},
   "source": [
    "Based on the provided p-values:\n",
    "\n",
    "- Age and weight both have p-values of 0.0, indicating significant differences across the clusters.\n",
    "- Height has a p-value of approximately 0.00092, suggesting significant differences as well, albeit less pronounced than age and weight.\n",
    "\n",
    "Therefore, we reject the null hypothesis for all variables, concluding that age, height, and weight have significantly influenced the formation of these clusters.\n",
    "\n",
    "We will now analyze the mean values of the age, height, and weight variables within each cluster."
   ]
  },
  {
   "cell_type": "code",
   "execution_count": null,
   "id": "e3c3f8c1",
   "metadata": {},
   "outputs": [
    {
     "name": "stdout",
     "output_type": "stream",
     "text": [
      "Mean values by cluster:\n",
      "                age      height     weight\n",
      "Cluster                                  \n",
      "0        54.947256  171.003548  88.677164\n",
      "1        57.911674  159.856895  68.166228\n",
      "2        45.908995  164.342052  68.721292\n"
     ]
    }
   ],
   "source": [
    "df_num_2 = df_formatted_with_cluster[num_features]\n",
    "df_num_2['Cluster'] = df_formatted_with_cluster['Cluster']\n",
    "mean_values = df_num_2.groupby('Cluster').mean()[['age', 'height', 'weight']]\n",
    "\n",
    "print(\"Mean values by cluster:\\n\", mean_values)"
   ]
  },
  {
   "cell_type": "markdown",
   "id": "13b44b19",
   "metadata": {},
   "source": [
    "\n",
    "Cluster 0 has older, taller, and heavier individuals. Cluster 1 has the oldest, shortest, and lightest individuals. Cluster 2 has the youngest individuals with intermediate height and low height."
   ]
  },
  {
   "cell_type": "code",
   "execution_count": null,
   "id": "fc7b5ed7",
   "metadata": {},
   "outputs": [
    {
     "data": {
      "image/png": "[encoded data removed]",
      "text/plain": [
       "<Figure size 1000x600 with 1 Axes>"
      ]
     },
     "metadata": {},
     "output_type": "display_data"
    }
   ],
   "source": [
    "fig, ax = plt.subplots(figsize=(10, 6))\n",
    "fig.suptitle('Percentage distribution of cardiovascular disease by cluster', y=1.02)\n",
    "\n",
    "cross_tab = pd.crosstab(df_formatted_with_cluster['Cluster'], df_formatted_with_cluster['cardio'])\n",
    "\n",
    "total_per_category = cross_tab.sum(axis=1)\n",
    "cross_tab_percent = cross_tab.div(total_per_category, axis=0) * 100\n",
    "\n",
    "cross_tab_percent.plot(kind='bar', stacked=True, ax=ax)\n",
    "ax.set_title('Percentage distribution of cardiovascular disease by cluster')\n",
    "ax.set_xlabel('Cluster')\n",
    "ax.set_ylabel('Percentage')\n",
    "ax.legend(title='Cardio', labels=['No', 'Yes'])\n",
    "ax.set_ylim(0, 100)\n",
    "\n",
    "for p in ax.patches:\n",
    "    width, height = p.get_width(), p.get_height()\n",
    "    x, y = p.get_xy()\n",
    "    ax.annotate(f'{height:.1f}%', (x + width / 2, y + height / 2),\n",
    "                ha='center', va='center', fontsize=12, color='white', weight='bold')\n",
    "\n",
    "plt.tight_layout()\n",
    "plt.show()"
   ]
  },
  {
   "cell_type": "markdown",
   "id": "36e72450",
   "metadata": {},
   "source": [
    "Cluster 0 has the highest proportion of individuals with cardiovascular disease, at around 60%, followed by Cluster 1 at approximately 55%. In contrast, Cluster 2 has only 34.1% of individuals with the disease.\n",
    "\n",
    "This makes sense, as Clusters 0 and 1 consist of older individuals compared to Cluster 2, and Cluster 0 has heavier individuals."
   ]
  },
  {
   "cell_type": "markdown",
   "id": "bfa44067",
   "metadata": {},
   "source": [
    "To finish the cluster analysis, let's conduct a chi-squared test to determine the association between the newly created variable and the presence of cardiovascular disease."
   ]
  },
  {
   "cell_type": "code",
   "execution_count": null,
   "id": "f1f79336",
   "metadata": {},
   "outputs": [
    {
     "name": "stdout",
     "output_type": "stream",
     "text": [
      "p-value of chi-squared statistic: 0.0000\n",
      "\n"
     ]
    }
   ],
   "source": [
    "tabela_mca = chi2_contingency(pd.crosstab(df_formatted_with_cluster['Cluster'], df_formatted_with_cluster['cardio']))\n",
    "p_valor = tabela_mca[1]\n",
    "print(f\"p-value of chi-squared statistic: {p_valor:.4f}\\n\")"
   ]
  },
  {
   "cell_type": "markdown",
   "id": "e3eb0b05",
   "metadata": {},
   "source": [
    "With a p-value of 0, we reject the null hypothesis and confirm a significant association."
   ]
  },
  {
   "cell_type": "markdown",
   "id": "e78153be",
   "metadata": {},
   "source": [
    "### Correlation Analysis and Perceptual Map\n",
    "\n",
    "This section focuses on analyzing correlations and constructing a perceptual map based on the data.\n"
   ]
  },
  {
   "cell_type": "markdown",
   "id": "26f0d5c5",
   "metadata": {},
   "source": [
    "To construct the perceptual map, each variable must exhibit significant correlation with at least one other variable. Initially, we will reassess the p-values from the chi-squared statistic for each column in relation to the cardio column."
   ]
  },
  {
   "cell_type": "code",
   "execution_count": null,
   "id": "26508a53",
   "metadata": {},
   "outputs": [
    {
     "name": "stdout",
     "output_type": "stream",
     "text": [
      "Variable: gender\n",
      "p-valor of chi-squared statistic: 0.0340\n",
      "\n",
      "Variable: cholesterol\n",
      "p-valor of chi-squared statistic: 0.0000\n",
      "\n",
      "Variable: gluc\n",
      "p-valor of chi-squared statistic: 0.0000\n",
      "\n",
      "Variable: smoke\n",
      "p-valor of chi-squared statistic: 0.0000\n",
      "\n",
      "Variable: alco\n",
      "p-valor of chi-squared statistic: 0.0625\n",
      "\n",
      "Variable: active\n",
      "p-valor of chi-squared statistic: 0.0000\n",
      "\n",
      "Variable: cardio\n",
      "p-valor of chi-squared statistic: 0.0000\n",
      "\n",
      "Variable: blood_pressure_category\n",
      "p-valor of chi-squared statistic: 0.0000\n",
      "\n"
     ]
    }
   ],
   "source": [
    "for col in categorical_columns:\n",
    "    tabela_mca = chi2_contingency(pd.crosstab(df_formatted_with_cluster[col], df_formatted_with_cluster['cardio']))\n",
    "    p_valor = tabela_mca[1]\n",
    "    print(f\"Variable: {col}\")\n",
    "    print(f\"p-valor of chi-squared statistic: {p_valor:.4f}\\n\")"
   ]
  },
  {
   "cell_type": "markdown",
   "id": "7288f140",
   "metadata": {},
   "source": [
    "\n",
    "The only variable with a significant p-value below 0.05 is alcohol intake (alco). To proceed, we need to determine if it correlates with any other variable by conducting another chi-squared test."
   ]
  },
  {
   "cell_type": "code",
   "execution_count": null,
   "id": "f5ea4812",
   "metadata": {},
   "outputs": [
    {
     "name": "stdout",
     "output_type": "stream",
     "text": [
      "Variable: gender\n",
      "p-valor of chi-squared statistic: 0.0000\n",
      "\n",
      "Variable: cholesterol\n",
      "p-valor of chi-squared statistic: 0.0000\n",
      "\n",
      "Variable: gluc\n",
      "p-valor of chi-squared statistic: 0.0000\n",
      "\n",
      "Variable: smoke\n",
      "p-valor of chi-squared statistic: 0.0000\n",
      "\n",
      "Variable: alco\n",
      "p-valor of chi-squared statistic: 0.0000\n",
      "\n",
      "Variable: active\n",
      "p-valor of chi-squared statistic: 0.0000\n",
      "\n",
      "Variable: cardio\n",
      "p-valor of chi-squared statistic: 0.0625\n",
      "\n",
      "Variable: blood_pressure_category\n",
      "p-valor of chi-squared statistic: 0.0000\n",
      "\n"
     ]
    }
   ],
   "source": [
    "for col in categorical_columns:\n",
    "    tabela_mca = chi2_contingency(pd.crosstab(df_formatted_with_cluster[col], df_formatted_with_cluster['alco']))\n",
    "    p_valor = tabela_mca[1]\n",
    "    print(f\"Variable: {col}\")\n",
    "    print(f\"p-valor of chi-squared statistic: {p_valor:.4f}\\n\")"
   ]
  },
  {
   "cell_type": "markdown",
   "id": "98f337a0",
   "metadata": {},
   "source": [
    "\n",
    "Indeed, it shows significant correlations with several variables, as evidenced by p-values less than 0.05. \n",
    "\n",
    "Lets conduct a multiple correspondence analysis on the qualitative features of the dataset."
   ]
  },
  {
   "cell_type": "code",
   "execution_count": null,
   "id": "21998b94",
   "metadata": {},
   "outputs": [
    {
     "name": "stdout",
     "output_type": "stream",
     "text": [
      "          eigenvalue % of variance % of variance (cumulative)\n",
      "component                                                    \n",
      "0              0.207        12.40%                     12.40%\n",
      "1              0.189        11.36%                     23.76%\n",
      "2              0.150         8.99%                     32.75%\n",
      "3              0.131         7.88%                     40.63%\n",
      "4              0.114         6.86%                     47.49%\n",
      "5              0.112         6.71%                     54.19%\n",
      "6              0.111         6.67%                     60.86%\n",
      "7              0.111         6.64%                     67.50%\n",
      "8              0.108         6.49%                     74.00%\n",
      "9              0.091         5.47%                     79.47%\n"
     ]
    }
   ],
   "source": [
    "categorical_columns = get_categorical_features(df_formatted_with_cluster)\n",
    "df_formatted_categorical = df_formatted_with_cluster[categorical_columns].copy()\n",
    "\n",
    "mca = prince.MCA(n_components=10).fit(df_formatted_categorical)\n",
    "\n",
    "eigenvalues_table = mca.eigenvalues_summary\n",
    "print(eigenvalues_table)"
   ]
  },
  {
   "cell_type": "markdown",
   "id": "258858b5",
   "metadata": {},
   "source": [
    "The variance is distributed among the components of MCA. For the dimensions that we can visualize graphically (2 and 3), we capture only 23.76% and 32.75% of the variance, respectively. Nonetheless, we will conclude this phase by creating perceptual maps with two components to gain some insights."
   ]
  },
  {
   "cell_type": "code",
   "execution_count": null,
   "id": "c1c67f60",
   "metadata": {},
   "outputs": [
    {
     "data": {
      "application/vnd.plotly.v1+json": {
       "config": {
        "plotlyServerURL": "https://plot.ly"
       },
       "data": [
        {
         "hovertemplate": "variable=gender<br>obs_x=%{x}<br>obs_y=%{y}<br>category_id=%{text}<extra></extra>",
         "legendgroup": "gender",
         "marker": {
          "color": "#636efa",
          "symbol": "circle"
         },
         "mode": "markers+text",
         "name": "gender",
         "orientation": "v",
         "showlegend": true,
         "text": [
          "female",
          "male"
         ],
         "textfont": {
          "size": 8
         },
         "textposition": "top right",
         "type": "scatter",
         "x": [
          -0.45239762254860766,
          0.8417832481451468
         ],
         "xaxis": "x",
         "y": [
          -1.1317863031514692,
          2.1059322661906092
         ],
         "yaxis": "y"
        },
        {
         "hovertemplate": "variable=cholesterol<br>obs_x=%{x}<br>obs_y=%{y}<br>category_id=%{text}<extra></extra>",
         "legendgroup": "cholesterol",
         "marker": {
          "color": "#EF553B",
          "symbol": "circle"
         },
         "mode": "markers+text",
         "name": "cholesterol",
         "orientation": "v",
         "showlegend": true,
         "text": [
          "above normal",
          "normal",
          "well above normal"
         ],
         "textfont": {
          "size": 8
         },
         "textposition": "top right",
         "type": "scatter",
         "x": [
          1.1501692032494106,
          -0.7241416977059941,
          3.339010602760034
         ],
         "xaxis": "x",
         "y": [
          0.09558080020381868,
          0.31015491403222223,
          -2.126143575804
         ],
         "yaxis": "y"
        },
        {
         "hovertemplate": "variable=gluc<br>obs_x=%{x}<br>obs_y=%{y}<br>category_id=%{text}<extra></extra>",
         "legendgroup": "gluc",
         "marker": {
          "color": "#00cc96",
          "symbol": "circle"
         },
         "mode": "markers+text",
         "name": "gluc",
         "orientation": "v",
         "showlegend": true,
         "text": [
          "above normal",
          "normal",
          "well above normal"
         ],
         "textfont": {
          "size": 8
         },
         "textposition": "top right",
         "type": "scatter",
         "x": [
          1.6244939512484222,
          -0.4404761414343638,
          3.3306776600312507
         ],
         "xaxis": "x",
         "y": [
          0.12457021582724478,
          0.21029727460268982,
          -2.4664911462637726
         ],
         "yaxis": "y"
        },
        {
         "hovertemplate": "variable=smoke<br>obs_x=%{x}<br>obs_y=%{y}<br>category_id=%{text}<extra></extra>",
         "legendgroup": "smoke",
         "marker": {
          "color": "#ab63fa",
          "symbol": "circle"
         },
         "mode": "markers+text",
         "name": "smoke",
         "orientation": "v",
         "showlegend": true,
         "text": [
          "No",
          "Yes"
         ],
         "textfont": {
          "size": 8
         },
         "textposition": "top right",
         "type": "scatter",
         "x": [
          -0.16998584930872032,
          1.7580928533421014
         ],
         "xaxis": "x",
         "y": [
          -0.4818627978362123,
          4.983706259152817
         ],
         "yaxis": "y"
        },
        {
         "hovertemplate": "variable=alco<br>obs_x=%{x}<br>obs_y=%{y}<br>category_id=%{text}<extra></extra>",
         "legendgroup": "alco",
         "marker": {
          "color": "#FFA15A",
          "symbol": "circle"
         },
         "mode": "markers+text",
         "name": "alco",
         "orientation": "v",
         "showlegend": true,
         "text": [
          "No",
          "Yes"
         ],
         "textfont": {
          "size": 8
         },
         "textposition": "top right",
         "type": "scatter",
         "x": [
          -0.11994323019972646,
          2.109629160318751
         ],
         "xaxis": "x",
         "y": [
          -0.2918639167343839,
          5.133467129094417
         ],
         "yaxis": "y"
        },
        {
         "hovertemplate": "variable=active<br>obs_x=%{x}<br>obs_y=%{y}<br>category_id=%{text}<extra></extra>",
         "legendgroup": "active",
         "marker": {
          "color": "#19d3f3",
          "symbol": "circle"
         },
         "mode": "markers+text",
         "name": "active",
         "orientation": "v",
         "showlegend": true,
         "text": [
          "No",
          "Yes"
         ],
         "textfont": {
          "size": 8
         },
         "textposition": "top right",
         "type": "scatter",
         "x": [
          0.04705897429314519,
          -0.011486644971198142
         ],
         "xaxis": "x",
         "y": [
          -0.24338668342136757,
          0.059408358664243426
         ],
         "yaxis": "y"
        },
        {
         "hovertemplate": "variable=cardio<br>obs_x=%{x}<br>obs_y=%{y}<br>category_id=%{text}<extra></extra>",
         "legendgroup": "cardio",
         "marker": {
          "color": "#FF6692",
          "symbol": "circle"
         },
         "mode": "markers+text",
         "name": "cardio",
         "orientation": "v",
         "showlegend": true,
         "text": [
          "No",
          "Yes"
         ],
         "textfont": {
          "size": 8
         },
         "textposition": "top right",
         "type": "scatter",
         "x": [
          -1.3443577666185489,
          1.3457048570543357
         ],
         "xaxis": "x",
         "y": [
          0.5277384393242144,
          -0.5282672504947707
         ],
         "yaxis": "y"
        },
        {
         "hovertemplate": "variable=blood<br>obs_x=%{x}<br>obs_y=%{y}<br>category_id=%{text}<extra></extra>",
         "legendgroup": "blood",
         "marker": {
          "color": "#B6E880",
          "symbol": "circle"
         },
         "mode": "markers+text",
         "name": "blood",
         "orientation": "v",
         "showlegend": true,
         "text": [
          "Elevated",
          "Hypertension, stage 1",
          "Hypertension, stage 2",
          "Hypotension",
          "Normal"
         ],
         "textfont": {
          "size": 8
         },
         "textposition": "top right",
         "type": "scatter",
         "x": [
          -1.2024628999652054,
          -0.22334571288635077,
          2.236619870316662,
          -2.5394851168827723,
          -2.066136170695347
         ],
         "xaxis": "x",
         "y": [
          0.445436380504981,
          0.08773285125097584,
          -0.46149377999081015,
          -0.12076064049170168,
          0.27058214346016674
         ],
         "yaxis": "y"
        },
        {
         "hovertemplate": "variable=Cluster<br>obs_x=%{x}<br>obs_y=%{y}<br>category_id=%{text}<extra></extra>",
         "legendgroup": "Cluster",
         "marker": {
          "color": "#FF97FF",
          "symbol": "circle"
         },
         "mode": "markers+text",
         "name": "Cluster",
         "orientation": "v",
         "showlegend": true,
         "text": [
          0,
          1,
          2
         ],
         "textfont": {
          "size": 8
         },
         "textposition": "top right",
         "type": "scatter",
         "x": [
          1.5510280531205016,
          0.043099943806606325,
          -1.4879011492861496
         ],
         "xaxis": "x",
         "y": [
          1.253632618073174,
          -1.3255900720650524,
          0.5672996055710987
         ],
         "yaxis": "y"
        }
       ],
       "layout": {
        "legend": {
         "title": {
          "text": "Variable"
         },
         "tracegroupgap": 0
        },
        "margin": {
         "t": 60
        },
        "template": {
         "data": {
          "bar": [
           {
            "error_x": {
             "color": "#2a3f5f"
            },
            "error_y": {
             "color": "#2a3f5f"
            },
            "marker": {
             "line": {
              "color": "#E5ECF6",
              "width": 0.5
             },
             "pattern": {
              "fillmode": "overlay",
              "size": 10,
              "solidity": 0.2
             }
            },
            "type": "bar"
           }
          ],
          "barpolar": [
           {
            "marker": {
             "line": {
              "color": "#E5ECF6",
              "width": 0.5
             },
             "pattern": {
              "fillmode": "overlay",
              "size": 10,
              "solidity": 0.2
             }
            },
            "type": "barpolar"
           }
          ],
          "carpet": [
           {
            "aaxis": {
             "endlinecolor": "#2a3f5f",
             "gridcolor": "white",
             "linecolor": "white",
             "minorgridcolor": "white",
             "startlinecolor": "#2a3f5f"
            },
            "baxis": {
             "endlinecolor": "#2a3f5f",
             "gridcolor": "white",
             "linecolor": "white",
             "minorgridcolor": "white",
             "startlinecolor": "#2a3f5f"
            },
            "type": "carpet"
           }
          ],
          "choropleth": [
           {
            "colorbar": {
             "outlinewidth": 0,
             "ticks": ""
            },
            "type": "choropleth"
           }
          ],
          "contour": [
           {
            "colorbar": {
             "outlinewidth": 0,
             "ticks": ""
            },
            "colorscale": [
             [
              0,
              "#0d0887"
             ],
             [
              0.1111111111111111,
              "#46039f"
             ],
             [
              0.2222222222222222,
              "#7201a8"
             ],
             [
              0.3333333333333333,
              "#9c179e"
             ],
             [
              0.4444444444444444,
              "#bd3786"
             ],
             [
              0.5555555555555556,
              "#d8576b"
             ],
             [
              0.6666666666666666,
              "#ed7953"
             ],
             [
              0.7777777777777778,
              "#fb9f3a"
             ],
             [
              0.8888888888888888,
              "#fdca26"
             ],
             [
              1,
              "#f0f921"
             ]
            ],
            "type": "contour"
           }
          ],
          "contourcarpet": [
           {
            "colorbar": {
             "outlinewidth": 0,
             "ticks": ""
            },
            "type": "contourcarpet"
           }
          ],
          "heatmap": [
           {
            "colorbar": {
             "outlinewidth": 0,
             "ticks": ""
            },
            "colorscale": [
             [
              0,
              "#0d0887"
             ],
             [
              0.1111111111111111,
              "#46039f"
             ],
             [
              0.2222222222222222,
              "#7201a8"
             ],
             [
              0.3333333333333333,
              "#9c179e"
             ],
             [
              0.4444444444444444,
              "#bd3786"
             ],
             [
              0.5555555555555556,
              "#d8576b"
             ],
             [
              0.6666666666666666,
              "#ed7953"
             ],
             [
              0.7777777777777778,
              "#fb9f3a"
             ],
             [
              0.8888888888888888,
              "#fdca26"
             ],
             [
              1,
              "#f0f921"
             ]
            ],
            "type": "heatmap"
           }
          ],
          "heatmapgl": [
           {
            "colorbar": {
             "outlinewidth": 0,
             "ticks": ""
            },
            "colorscale": [
             [
              0,
              "#0d0887"
             ],
             [
              0.1111111111111111,
              "#46039f"
             ],
             [
              0.2222222222222222,
              "#7201a8"
             ],
             [
              0.3333333333333333,
              "#9c179e"
             ],
             [
              0.4444444444444444,
              "#bd3786"
             ],
             [
              0.5555555555555556,
              "#d8576b"
             ],
             [
              0.6666666666666666,
              "#ed7953"
             ],
             [
              0.7777777777777778,
              "#fb9f3a"
             ],
             [
              0.8888888888888888,
              "#fdca26"
             ],
             [
              1,
              "#f0f921"
             ]
            ],
            "type": "heatmapgl"
           }
          ],
          "histogram": [
           {
            "marker": {
             "pattern": {
              "fillmode": "overlay",
              "size": 10,
              "solidity": 0.2
             }
            },
            "type": "histogram"
           }
          ],
          "histogram2d": [
           {
            "colorbar": {
             "outlinewidth": 0,
             "ticks": ""
            },
            "colorscale": [
             [
              0,
              "#0d0887"
             ],
             [
              0.1111111111111111,
              "#46039f"
             ],
             [
              0.2222222222222222,
              "#7201a8"
             ],
             [
              0.3333333333333333,
              "#9c179e"
             ],
             [
              0.4444444444444444,
              "#bd3786"
             ],
             [
              0.5555555555555556,
              "#d8576b"
             ],
             [
              0.6666666666666666,
              "#ed7953"
             ],
             [
              0.7777777777777778,
              "#fb9f3a"
             ],
             [
              0.8888888888888888,
              "#fdca26"
             ],
             [
              1,
              "#f0f921"
             ]
            ],
            "type": "histogram2d"
           }
          ],
          "histogram2dcontour": [
           {
            "colorbar": {
             "outlinewidth": 0,
             "ticks": ""
            },
            "colorscale": [
             [
              0,
              "#0d0887"
             ],
             [
              0.1111111111111111,
              "#46039f"
             ],
             [
              0.2222222222222222,
              "#7201a8"
             ],
             [
              0.3333333333333333,
              "#9c179e"
             ],
             [
              0.4444444444444444,
              "#bd3786"
             ],
             [
              0.5555555555555556,
              "#d8576b"
             ],
             [
              0.6666666666666666,
              "#ed7953"
             ],
             [
              0.7777777777777778,
              "#fb9f3a"
             ],
             [
              0.8888888888888888,
              "#fdca26"
             ],
             [
              1,
              "#f0f921"
             ]
            ],
            "type": "histogram2dcontour"
           }
          ],
          "mesh3d": [
           {
            "colorbar": {
             "outlinewidth": 0,
             "ticks": ""
            },
            "type": "mesh3d"
           }
          ],
          "parcoords": [
           {
            "line": {
             "colorbar": {
              "outlinewidth": 0,
              "ticks": ""
             }
            },
            "type": "parcoords"
           }
          ],
          "pie": [
           {
            "automargin": true,
            "type": "pie"
           }
          ],
          "scatter": [
           {
            "fillpattern": {
             "fillmode": "overlay",
             "size": 10,
             "solidity": 0.2
            },
            "type": "scatter"
           }
          ],
          "scatter3d": [
           {
            "line": {
             "colorbar": {
              "outlinewidth": 0,
              "ticks": ""
             }
            },
            "marker": {
             "colorbar": {
              "outlinewidth": 0,
              "ticks": ""
             }
            },
            "type": "scatter3d"
           }
          ],
          "scattercarpet": [
           {
            "marker": {
             "colorbar": {
              "outlinewidth": 0,
              "ticks": ""
             }
            },
            "type": "scattercarpet"
           }
          ],
          "scattergeo": [
           {
            "marker": {
             "colorbar": {
              "outlinewidth": 0,
              "ticks": ""
             }
            },
            "type": "scattergeo"
           }
          ],
          "scattergl": [
           {
            "marker": {
             "colorbar": {
              "outlinewidth": 0,
              "ticks": ""
             }
            },
            "type": "scattergl"
           }
          ],
          "scattermapbox": [
           {
            "marker": {
             "colorbar": {
              "outlinewidth": 0,
              "ticks": ""
             }
            },
            "type": "scattermapbox"
           }
          ],
          "scatterpolar": [
           {
            "marker": {
             "colorbar": {
              "outlinewidth": 0,
              "ticks": ""
             }
            },
            "type": "scatterpolar"
           }
          ],
          "scatterpolargl": [
           {
            "marker": {
             "colorbar": {
              "outlinewidth": 0,
              "ticks": ""
             }
            },
            "type": "scatterpolargl"
           }
          ],
          "scatterternary": [
           {
            "marker": {
             "colorbar": {
              "outlinewidth": 0,
              "ticks": ""
             }
            },
            "type": "scatterternary"
           }
          ],
          "surface": [
           {
            "colorbar": {
             "outlinewidth": 0,
             "ticks": ""
            },
            "colorscale": [
             [
              0,
              "#0d0887"
             ],
             [
              0.1111111111111111,
              "#46039f"
             ],
             [
              0.2222222222222222,
              "#7201a8"
             ],
             [
              0.3333333333333333,
              "#9c179e"
             ],
             [
              0.4444444444444444,
              "#bd3786"
             ],
             [
              0.5555555555555556,
              "#d8576b"
             ],
             [
              0.6666666666666666,
              "#ed7953"
             ],
             [
              0.7777777777777778,
              "#fb9f3a"
             ],
             [
              0.8888888888888888,
              "#fdca26"
             ],
             [
              1,
              "#f0f921"
             ]
            ],
            "type": "surface"
           }
          ],
          "table": [
           {
            "cells": {
             "fill": {
              "color": "#EBF0F8"
             },
             "line": {
              "color": "white"
             }
            },
            "header": {
             "fill": {
              "color": "#C8D4E3"
             },
             "line": {
              "color": "white"
             }
            },
            "type": "table"
           }
          ]
         },
         "layout": {
          "annotationdefaults": {
           "arrowcolor": "#2a3f5f",
           "arrowhead": 0,
           "arrowwidth": 1
          },
          "autotypenumbers": "strict",
          "coloraxis": {
           "colorbar": {
            "outlinewidth": 0,
            "ticks": ""
           }
          },
          "colorscale": {
           "diverging": [
            [
             0,
             "#8e0152"
            ],
            [
             0.1,
             "#c51b7d"
            ],
            [
             0.2,
             "#de77ae"
            ],
            [
             0.3,
             "#f1b6da"
            ],
            [
             0.4,
             "#fde0ef"
            ],
            [
             0.5,
             "#f7f7f7"
            ],
            [
             0.6,
             "#e6f5d0"
            ],
            [
             0.7,
             "#b8e186"
            ],
            [
             0.8,
             "#7fbc41"
            ],
            [
             0.9,
             "#4d9221"
            ],
            [
             1,
             "#276419"
            ]
           ],
           "sequential": [
            [
             0,
             "#0d0887"
            ],
            [
             0.1111111111111111,
             "#46039f"
            ],
            [
             0.2222222222222222,
             "#7201a8"
            ],
            [
             0.3333333333333333,
             "#9c179e"
            ],
            [
             0.4444444444444444,
             "#bd3786"
            ],
            [
             0.5555555555555556,
             "#d8576b"
            ],
            [
             0.6666666666666666,
             "#ed7953"
            ],
            [
             0.7777777777777778,
             "#fb9f3a"
            ],
            [
             0.8888888888888888,
             "#fdca26"
            ],
            [
             1,
             "#f0f921"
            ]
           ],
           "sequentialminus": [
            [
             0,
             "#0d0887"
            ],
            [
             0.1111111111111111,
             "#46039f"
            ],
            [
             0.2222222222222222,
             "#7201a8"
            ],
            [
             0.3333333333333333,
             "#9c179e"
            ],
            [
             0.4444444444444444,
             "#bd3786"
            ],
            [
             0.5555555555555556,
             "#d8576b"
            ],
            [
             0.6666666666666666,
             "#ed7953"
            ],
            [
             0.7777777777777778,
             "#fb9f3a"
            ],
            [
             0.8888888888888888,
             "#fdca26"
            ],
            [
             1,
             "#f0f921"
            ]
           ]
          },
          "colorway": [
           "#636efa",
           "#EF553B",
           "#00cc96",
           "#ab63fa",
           "#FFA15A",
           "#19d3f3",
           "#FF6692",
           "#B6E880",
           "#FF97FF",
           "#FECB52"
          ],
          "font": {
           "color": "#2a3f5f"
          },
          "geo": {
           "bgcolor": "white",
           "lakecolor": "white",
           "landcolor": "#E5ECF6",
           "showlakes": true,
           "showland": true,
           "subunitcolor": "white"
          },
          "hoverlabel": {
           "align": "left"
          },
          "hovermode": "closest",
          "mapbox": {
           "style": "light"
          },
          "paper_bgcolor": "white",
          "plot_bgcolor": "#E5ECF6",
          "polar": {
           "angularaxis": {
            "gridcolor": "white",
            "linecolor": "white",
            "ticks": ""
           },
           "bgcolor": "#E5ECF6",
           "radialaxis": {
            "gridcolor": "white",
            "linecolor": "white",
            "ticks": ""
           }
          },
          "scene": {
           "xaxis": {
            "backgroundcolor": "#E5ECF6",
            "gridcolor": "white",
            "gridwidth": 2,
            "linecolor": "white",
            "showbackground": true,
            "ticks": "",
            "zerolinecolor": "white"
           },
           "yaxis": {
            "backgroundcolor": "#E5ECF6",
            "gridcolor": "white",
            "gridwidth": 2,
            "linecolor": "white",
            "showbackground": true,
            "ticks": "",
            "zerolinecolor": "white"
           },
           "zaxis": {
            "backgroundcolor": "#E5ECF6",
            "gridcolor": "white",
            "gridwidth": 2,
            "linecolor": "white",
            "showbackground": true,
            "ticks": "",
            "zerolinecolor": "white"
           }
          },
          "shapedefaults": {
           "line": {
            "color": "#2a3f5f"
           }
          },
          "ternary": {
           "aaxis": {
            "gridcolor": "white",
            "linecolor": "white",
            "ticks": ""
           },
           "baxis": {
            "gridcolor": "white",
            "linecolor": "white",
            "ticks": ""
           },
           "bgcolor": "#E5ECF6",
           "caxis": {
            "gridcolor": "white",
            "linecolor": "white",
            "ticks": ""
           }
          },
          "title": {
           "x": 0.05
          },
          "xaxis": {
           "automargin": true,
           "gridcolor": "white",
           "linecolor": "white",
           "ticks": "",
           "title": {
            "standoff": 15
           },
           "zerolinecolor": "white",
           "zerolinewidth": 2
          },
          "yaxis": {
           "automargin": true,
           "gridcolor": "white",
           "linecolor": "white",
           "ticks": "",
           "title": {
            "standoff": 15
           },
           "zerolinecolor": "white",
           "zerolinewidth": 2
          }
         }
        },
        "title": {
         "text": "Plot of line coordinates in MCA"
        },
        "xaxis": {
         "anchor": "y",
         "domain": [
          0,
          1
         ],
         "title": {
          "text": "Dimension 1"
         }
        },
        "yaxis": {
         "anchor": "x",
         "domain": [
          0,
          1
         ],
         "title": {
          "text": "Dimension 2"
         }
        }
       }
      }
     },
     "metadata": {},
     "output_type": "display_data"
    }
   ],
   "source": [
    "mca = prince.MCA(n_components=2).fit(df_formatted_categorical)\n",
    "standard_coord = mca.column_coordinates(df_formatted_categorical) / np.sqrt(mca.eigenvalues_)\n",
    "coord_obs = mca.row_coordinates(df_formatted_categorical)\n",
    "coord_obs.rename(columns={0: 'dim1_acm', 1: 'dim2_acm'}, inplace=True)\n",
    "\n",
    "chart = standard_coord.reset_index()\n",
    "var_chart = pd.Series(chart['index'].str.split('_', expand=True).iloc[:,0])\n",
    "\n",
    "name_categ=[]\n",
    "for col in df_formatted_categorical:\n",
    "    name_categ.append(df_formatted_categorical[col].sort_values(ascending=True).unique())\n",
    "    categories = pd.DataFrame(name_categ).stack().reset_index()\n",
    "\n",
    "chart_df_mca = pd.DataFrame({'category': chart['index'],\n",
    "                             'obs_x': chart[0],\n",
    "                             'obs_y': chart[1],\n",
    "                             'variable': var_chart,\n",
    "                             'category_id': categories[0]})\n",
    "fig = px.scatter(chart_df_mca, \n",
    "                    x='obs_x', \n",
    "                    y='obs_y', \n",
    "                    color='variable',\n",
    "                    text=chart_df_mca.category_id) \n",
    "\n",
    "fig.update_traces(textposition='top right', textfont_size=8)\n",
    "\n",
    "fig.update_layout(title='Plot of line coordinates in MCA',\n",
    "                  xaxis_title='Dimension 1',\n",
    "                  yaxis_title='Dimension 2',\n",
    "                  legend_title='Variable')\n",
    "fig.show()"
   ]
  },
  {
   "cell_type": "markdown",
   "id": "e0bd7950",
   "metadata": {},
   "source": [
    "The perceptual map reveals valuable insights. Categories closely associated with the presence of cardiovascular disease include cholesterol and glucose above normal levels. Conversely, categories closely associated with the absence of disease are normal blood pressure, hypotension, elevated blood pressure, Cluster 2, and normal cholesterol levels.\n",
    "\n",
    "However, it's important to note that this analysis captures only 23.76% of the dataset's variability."
   ]
  },
  {
   "cell_type": "code",
   "execution_count": null,
   "id": "5c6c017a",
   "metadata": {},
   "outputs": [
    {
     "data": {
      "application/vnd.plotly.v1+json": {
       "config": {
        "plotlyServerURL": "https://plot.ly"
       },
       "data": [
        {
         "hovertemplate": "variable=gender<br>obs_x=%{x}<br>obs_y=%{y}<br>obs_z=%{z}<br>category_id=%{text}<extra></extra>",
         "legendgroup": "gender",
         "marker": {
          "color": "#636efa",
          "size": 2,
          "symbol": "circle"
         },
         "mode": "markers+text",
         "name": "gender",
         "scene": "scene",
         "showlegend": true,
         "text": [
          "female",
          "male"
         ],
         "textfont": {
          "size": 8
         },
         "textposition": "top right",
         "type": "scatter3d",
         "x": [
          -0.45239577275823023,
          0.8417798062116035
         ],
         "y": [
          -1.1317842072429487,
          2.10592836630123
         ],
         "z": [
          0.23897460531394094,
          -0.44466374149382204
         ]
        },
        {
         "hovertemplate": "variable=cholesterol<br>obs_x=%{x}<br>obs_y=%{y}<br>obs_z=%{z}<br>category_id=%{text}<extra></extra>",
         "legendgroup": "cholesterol",
         "marker": {
          "color": "#EF553B",
          "size": 2,
          "symbol": "circle"
         },
         "mode": "markers+text",
         "name": "cholesterol",
         "scene": "scene",
         "showlegend": true,
         "text": [
          "above normal",
          "normal",
          "well above normal"
         ],
         "textfont": {
          "size": 8
         },
         "textposition": "top right",
         "type": "scatter3d",
         "x": [
          1.150172869048788,
          -0.7241430826754385,
          3.339015254100919
         ],
         "y": [
          0.09567343966826855,
          0.31014411791944935,
          -2.1261831241529117
         ],
         "z": [
          4.157681651474236,
          -0.2145100573618333,
          -3.527502922162194
         ]
        },
        {
         "hovertemplate": "variable=gluc<br>obs_x=%{x}<br>obs_y=%{y}<br>obs_z=%{z}<br>category_id=%{text}<extra></extra>",
         "legendgroup": "gluc",
         "marker": {
          "color": "#00cc96",
          "size": 2,
          "symbol": "circle"
         },
         "mode": "markers+text",
         "name": "gluc",
         "scene": "scene",
         "showlegend": true,
         "text": [
          "above normal",
          "normal",
          "well above normal"
         ],
         "textfont": {
          "size": 8
         },
         "textposition": "top right",
         "type": "scatter3d",
         "x": [
          1.6244877803677331,
          -0.4404752288579023,
          3.330673490529825
         ],
         "y": [
          0.12444536549295779,
          0.21030213680380874,
          -2.4664238247273023
         ],
         "z": [
          5.169909351852766,
          -0.002056172091232793,
          -5.010085700758494
         ]
        },
        {
         "hovertemplate": "variable=smoke<br>obs_x=%{x}<br>obs_y=%{y}<br>obs_z=%{z}<br>category_id=%{text}<extra></extra>",
         "legendgroup": "smoke",
         "marker": {
          "color": "#ab63fa",
          "size": 2,
          "symbol": "circle"
         },
         "mode": "markers+text",
         "name": "smoke",
         "scene": "scene",
         "showlegend": true,
         "text": [
          "No",
          "Yes"
         ],
         "textfont": {
          "size": 8
         },
         "textposition": "top right",
         "type": "scatter3d",
         "x": [
          -0.16998639462154816,
          1.7580984932856025
         ],
         "y": [
          -0.48186170321096977,
          4.983694937899756
         ],
         "z": [
          0.09286410518758521,
          -0.9604547691837045
         ]
        },
        {
         "hovertemplate": "variable=alco<br>obs_x=%{x}<br>obs_y=%{y}<br>obs_z=%{z}<br>category_id=%{text}<extra></extra>",
         "legendgroup": "alco",
         "marker": {
          "color": "#FFA15A",
          "size": 2,
          "symbol": "circle"
         },
         "mode": "markers+text",
         "name": "alco",
         "scene": "scene",
         "showlegend": true,
         "text": [
          "No",
          "Yes"
         ],
         "textfont": {
          "size": 8
         },
         "textposition": "top right",
         "type": "scatter3d",
         "x": [
          -0.11994299357968517,
          2.1096249985120514
         ],
         "y": [
          -0.29186395349805644,
          5.133467775714613
         ],
         "z": [
          0.043557575709380604,
          -0.7661152006352306
         ]
        },
        {
         "hovertemplate": "variable=active<br>obs_x=%{x}<br>obs_y=%{y}<br>obs_z=%{z}<br>category_id=%{text}<extra></extra>",
         "legendgroup": "active",
         "marker": {
          "color": "#19d3f3",
          "size": 2,
          "symbol": "circle"
         },
         "mode": "markers+text",
         "name": "active",
         "scene": "scene",
         "showlegend": true,
         "text": [
          "No",
          "Yes"
         ],
         "textfont": {
          "size": 8
         },
         "textposition": "top right",
         "type": "scatter3d",
         "x": [
          0.04706018072327383,
          -0.011486939449239295
         ],
         "y": [
          -0.24338100176252894,
          0.05940697182573042
         ],
         "z": [
          0.32715426853778207,
          -0.0798552240024672
         ]
        },
        {
         "hovertemplate": "variable=cardio<br>obs_x=%{x}<br>obs_y=%{y}<br>obs_z=%{z}<br>category_id=%{text}<extra></extra>",
         "legendgroup": "cardio",
         "marker": {
          "color": "#FF6692",
          "size": 2,
          "symbol": "circle"
         },
         "mode": "markers+text",
         "name": "cardio",
         "scene": "scene",
         "showlegend": true,
         "text": [
          "No",
          "Yes"
         ],
         "textfont": {
          "size": 8
         },
         "textposition": "top right",
         "type": "scatter3d",
         "x": [
          -1.3443507490083284,
          1.3456978324122413
         ],
         "y": [
          0.5277991505016928,
          -0.5283280225068336
         ],
         "z": [
          -0.5641354136270349,
          0.5647006957558378
         ]
        },
        {
         "hovertemplate": "variable=blood<br>obs_x=%{x}<br>obs_y=%{y}<br>obs_z=%{z}<br>category_id=%{text}<extra></extra>",
         "legendgroup": "blood",
         "marker": {
          "color": "#B6E880",
          "size": 2,
          "symbol": "circle"
         },
         "mode": "markers+text",
         "name": "blood",
         "scene": "scene",
         "showlegend": true,
         "text": [
          "Elevated",
          "Hypertension, stage 1",
          "Hypertension, stage 2",
          "Hypotension",
          "Normal"
         ],
         "textfont": {
          "size": 8
         },
         "textposition": "top right",
         "type": "scatter3d",
         "x": [
          -1.2024678509987397,
          -0.22334697579823484,
          2.2366300773028236,
          -2.5394965082818026,
          -2.0661445446720195
         ],
         "y": [
          0.4453851115603402,
          0.08772278600752184,
          -0.46139837291846963,
          -0.12088015374615693,
          0.27049946927178725
         ],
         "z": [
          -0.960377840009752,
          -0.4766228691571818,
          1.4690652966776332,
          0.8233888425496362,
          -0.08006141234276251
         ]
        },
        {
         "hovertemplate": "variable=Cluster<br>obs_x=%{x}<br>obs_y=%{y}<br>obs_z=%{z}<br>category_id=%{text}<extra></extra>",
         "legendgroup": "Cluster",
         "marker": {
          "color": "#FF97FF",
          "size": 2,
          "symbol": "circle"
         },
         "mode": "markers+text",
         "name": "Cluster",
         "scene": "scene",
         "showlegend": true,
         "text": [
          0,
          1,
          2
         ],
         "textfont": {
          "size": 8
         },
         "textposition": "top right",
         "type": "scatter3d",
         "x": [
          1.5510300639717562,
          0.0430995593670053,
          -1.487902505444709
         ],
         "y": [
          1.253631931171977,
          -1.32558458864987,
          0.5672931057790713
         ],
         "z": [
          0.013605208748228336,
          0.20650043935359239,
          -0.2812159483604996
         ]
        }
       ],
       "layout": {
        "legend": {
         "title": {
          "text": "Variable"
         },
         "tracegroupgap": 0
        },
        "margin": {
         "t": 60
        },
        "scene": {
         "domain": {
          "x": [
           0,
           1
          ],
          "y": [
           0,
           1
          ]
         },
         "xaxis": {
          "title": {
           "text": "obs_x"
          }
         },
         "yaxis": {
          "title": {
           "text": "obs_y"
          }
         },
         "zaxis": {
          "title": {
           "text": "obs_z"
          }
         }
        },
        "template": {
         "data": {
          "bar": [
           {
            "error_x": {
             "color": "#2a3f5f"
            },
            "error_y": {
             "color": "#2a3f5f"
            },
            "marker": {
             "line": {
              "color": "#E5ECF6",
              "width": 0.5
             },
             "pattern": {
              "fillmode": "overlay",
              "size": 10,
              "solidity": 0.2
             }
            },
            "type": "bar"
           }
          ],
          "barpolar": [
           {
            "marker": {
             "line": {
              "color": "#E5ECF6",
              "width": 0.5
             },
             "pattern": {
              "fillmode": "overlay",
              "size": 10,
              "solidity": 0.2
             }
            },
            "type": "barpolar"
           }
          ],
          "carpet": [
           {
            "aaxis": {
             "endlinecolor": "#2a3f5f",
             "gridcolor": "white",
             "linecolor": "white",
             "minorgridcolor": "white",
             "startlinecolor": "#2a3f5f"
            },
            "baxis": {
             "endlinecolor": "#2a3f5f",
             "gridcolor": "white",
             "linecolor": "white",
             "minorgridcolor": "white",
             "startlinecolor": "#2a3f5f"
            },
            "type": "carpet"
           }
          ],
          "choropleth": [
           {
            "colorbar": {
             "outlinewidth": 0,
             "ticks": ""
            },
            "type": "choropleth"
           }
          ],
          "contour": [
           {
            "colorbar": {
             "outlinewidth": 0,
             "ticks": ""
            },
            "colorscale": [
             [
              0,
              "#0d0887"
             ],
             [
              0.1111111111111111,
              "#46039f"
             ],
             [
              0.2222222222222222,
              "#7201a8"
             ],
             [
              0.3333333333333333,
              "#9c179e"
             ],
             [
              0.4444444444444444,
              "#bd3786"
             ],
             [
              0.5555555555555556,
              "#d8576b"
             ],
             [
              0.6666666666666666,
              "#ed7953"
             ],
             [
              0.7777777777777778,
              "#fb9f3a"
             ],
             [
              0.8888888888888888,
              "#fdca26"
             ],
             [
              1,
              "#f0f921"
             ]
            ],
            "type": "contour"
           }
          ],
          "contourcarpet": [
           {
            "colorbar": {
             "outlinewidth": 0,
             "ticks": ""
            },
            "type": "contourcarpet"
           }
          ],
          "heatmap": [
           {
            "colorbar": {
             "outlinewidth": 0,
             "ticks": ""
            },
            "colorscale": [
             [
              0,
              "#0d0887"
             ],
             [
              0.1111111111111111,
              "#46039f"
             ],
             [
              0.2222222222222222,
              "#7201a8"
             ],
             [
              0.3333333333333333,
              "#9c179e"
             ],
             [
              0.4444444444444444,
              "#bd3786"
             ],
             [
              0.5555555555555556,
              "#d8576b"
             ],
             [
              0.6666666666666666,
              "#ed7953"
             ],
             [
              0.7777777777777778,
              "#fb9f3a"
             ],
             [
              0.8888888888888888,
              "#fdca26"
             ],
             [
              1,
              "#f0f921"
             ]
            ],
            "type": "heatmap"
           }
          ],
          "heatmapgl": [
           {
            "colorbar": {
             "outlinewidth": 0,
             "ticks": ""
            },
            "colorscale": [
             [
              0,
              "#0d0887"
             ],
             [
              0.1111111111111111,
              "#46039f"
             ],
             [
              0.2222222222222222,
              "#7201a8"
             ],
             [
              0.3333333333333333,
              "#9c179e"
             ],
             [
              0.4444444444444444,
              "#bd3786"
             ],
             [
              0.5555555555555556,
              "#d8576b"
             ],
             [
              0.6666666666666666,
              "#ed7953"
             ],
             [
              0.7777777777777778,
              "#fb9f3a"
             ],
             [
              0.8888888888888888,
              "#fdca26"
             ],
             [
              1,
              "#f0f921"
             ]
            ],
            "type": "heatmapgl"
           }
          ],
          "histogram": [
           {
            "marker": {
             "pattern": {
              "fillmode": "overlay",
              "size": 10,
              "solidity": 0.2
             }
            },
            "type": "histogram"
           }
          ],
          "histogram2d": [
           {
            "colorbar": {
             "outlinewidth": 0,
             "ticks": ""
            },
            "colorscale": [
             [
              0,
              "#0d0887"
             ],
             [
              0.1111111111111111,
              "#46039f"
             ],
             [
              0.2222222222222222,
              "#7201a8"
             ],
             [
              0.3333333333333333,
              "#9c179e"
             ],
             [
              0.4444444444444444,
              "#bd3786"
             ],
             [
              0.5555555555555556,
              "#d8576b"
             ],
             [
              0.6666666666666666,
              "#ed7953"
             ],
             [
              0.7777777777777778,
              "#fb9f3a"
             ],
             [
              0.8888888888888888,
              "#fdca26"
             ],
             [
              1,
              "#f0f921"
             ]
            ],
            "type": "histogram2d"
           }
          ],
          "histogram2dcontour": [
           {
            "colorbar": {
             "outlinewidth": 0,
             "ticks": ""
            },
            "colorscale": [
             [
              0,
              "#0d0887"
             ],
             [
              0.1111111111111111,
              "#46039f"
             ],
             [
              0.2222222222222222,
              "#7201a8"
             ],
             [
              0.3333333333333333,
              "#9c179e"
             ],
             [
              0.4444444444444444,
              "#bd3786"
             ],
             [
              0.5555555555555556,
              "#d8576b"
             ],
             [
              0.6666666666666666,
              "#ed7953"
             ],
             [
              0.7777777777777778,
              "#fb9f3a"
             ],
             [
              0.8888888888888888,
              "#fdca26"
             ],
             [
              1,
              "#f0f921"
             ]
            ],
            "type": "histogram2dcontour"
           }
          ],
          "mesh3d": [
           {
            "colorbar": {
             "outlinewidth": 0,
             "ticks": ""
            },
            "type": "mesh3d"
           }
          ],
          "parcoords": [
           {
            "line": {
             "colorbar": {
              "outlinewidth": 0,
              "ticks": ""
             }
            },
            "type": "parcoords"
           }
          ],
          "pie": [
           {
            "automargin": true,
            "type": "pie"
           }
          ],
          "scatter": [
           {
            "fillpattern": {
             "fillmode": "overlay",
             "size": 10,
             "solidity": 0.2
            },
            "type": "scatter"
           }
          ],
          "scatter3d": [
           {
            "line": {
             "colorbar": {
              "outlinewidth": 0,
              "ticks": ""
             }
            },
            "marker": {
             "colorbar": {
              "outlinewidth": 0,
              "ticks": ""
             }
            },
            "type": "scatter3d"
           }
          ],
          "scattercarpet": [
           {
            "marker": {
             "colorbar": {
              "outlinewidth": 0,
              "ticks": ""
             }
            },
            "type": "scattercarpet"
           }
          ],
          "scattergeo": [
           {
            "marker": {
             "colorbar": {
              "outlinewidth": 0,
              "ticks": ""
             }
            },
            "type": "scattergeo"
           }
          ],
          "scattergl": [
           {
            "marker": {
             "colorbar": {
              "outlinewidth": 0,
              "ticks": ""
             }
            },
            "type": "scattergl"
           }
          ],
          "scattermapbox": [
           {
            "marker": {
             "colorbar": {
              "outlinewidth": 0,
              "ticks": ""
             }
            },
            "type": "scattermapbox"
           }
          ],
          "scatterpolar": [
           {
            "marker": {
             "colorbar": {
              "outlinewidth": 0,
              "ticks": ""
             }
            },
            "type": "scatterpolar"
           }
          ],
          "scatterpolargl": [
           {
            "marker": {
             "colorbar": {
              "outlinewidth": 0,
              "ticks": ""
             }
            },
            "type": "scatterpolargl"
           }
          ],
          "scatterternary": [
           {
            "marker": {
             "colorbar": {
              "outlinewidth": 0,
              "ticks": ""
             }
            },
            "type": "scatterternary"
           }
          ],
          "surface": [
           {
            "colorbar": {
             "outlinewidth": 0,
             "ticks": ""
            },
            "colorscale": [
             [
              0,
              "#0d0887"
             ],
             [
              0.1111111111111111,
              "#46039f"
             ],
             [
              0.2222222222222222,
              "#7201a8"
             ],
             [
              0.3333333333333333,
              "#9c179e"
             ],
             [
              0.4444444444444444,
              "#bd3786"
             ],
             [
              0.5555555555555556,
              "#d8576b"
             ],
             [
              0.6666666666666666,
              "#ed7953"
             ],
             [
              0.7777777777777778,
              "#fb9f3a"
             ],
             [
              0.8888888888888888,
              "#fdca26"
             ],
             [
              1,
              "#f0f921"
             ]
            ],
            "type": "surface"
           }
          ],
          "table": [
           {
            "cells": {
             "fill": {
              "color": "#EBF0F8"
             },
             "line": {
              "color": "white"
             }
            },
            "header": {
             "fill": {
              "color": "#C8D4E3"
             },
             "line": {
              "color": "white"
             }
            },
            "type": "table"
           }
          ]
         },
         "layout": {
          "annotationdefaults": {
           "arrowcolor": "#2a3f5f",
           "arrowhead": 0,
           "arrowwidth": 1
          },
          "autotypenumbers": "strict",
          "coloraxis": {
           "colorbar": {
            "outlinewidth": 0,
            "ticks": ""
           }
          },
          "colorscale": {
           "diverging": [
            [
             0,
             "#8e0152"
            ],
            [
             0.1,
             "#c51b7d"
            ],
            [
             0.2,
             "#de77ae"
            ],
            [
             0.3,
             "#f1b6da"
            ],
            [
             0.4,
             "#fde0ef"
            ],
            [
             0.5,
             "#f7f7f7"
            ],
            [
             0.6,
             "#e6f5d0"
            ],
            [
             0.7,
             "#b8e186"
            ],
            [
             0.8,
             "#7fbc41"
            ],
            [
             0.9,
             "#4d9221"
            ],
            [
             1,
             "#276419"
            ]
           ],
           "sequential": [
            [
             0,
             "#0d0887"
            ],
            [
             0.1111111111111111,
             "#46039f"
            ],
            [
             0.2222222222222222,
             "#7201a8"
            ],
            [
             0.3333333333333333,
             "#9c179e"
            ],
            [
             0.4444444444444444,
             "#bd3786"
            ],
            [
             0.5555555555555556,
             "#d8576b"
            ],
            [
             0.6666666666666666,
             "#ed7953"
            ],
            [
             0.7777777777777778,
             "#fb9f3a"
            ],
            [
             0.8888888888888888,
             "#fdca26"
            ],
            [
             1,
             "#f0f921"
            ]
           ],
           "sequentialminus": [
            [
             0,
             "#0d0887"
            ],
            [
             0.1111111111111111,
             "#46039f"
            ],
            [
             0.2222222222222222,
             "#7201a8"
            ],
            [
             0.3333333333333333,
             "#9c179e"
            ],
            [
             0.4444444444444444,
             "#bd3786"
            ],
            [
             0.5555555555555556,
             "#d8576b"
            ],
            [
             0.6666666666666666,
             "#ed7953"
            ],
            [
             0.7777777777777778,
             "#fb9f3a"
            ],
            [
             0.8888888888888888,
             "#fdca26"
            ],
            [
             1,
             "#f0f921"
            ]
           ]
          },
          "colorway": [
           "#636efa",
           "#EF553B",
           "#00cc96",
           "#ab63fa",
           "#FFA15A",
           "#19d3f3",
           "#FF6692",
           "#B6E880",
           "#FF97FF",
           "#FECB52"
          ],
          "font": {
           "color": "#2a3f5f"
          },
          "geo": {
           "bgcolor": "white",
           "lakecolor": "white",
           "landcolor": "#E5ECF6",
           "showlakes": true,
           "showland": true,
           "subunitcolor": "white"
          },
          "hoverlabel": {
           "align": "left"
          },
          "hovermode": "closest",
          "mapbox": {
           "style": "light"
          },
          "paper_bgcolor": "white",
          "plot_bgcolor": "#E5ECF6",
          "polar": {
           "angularaxis": {
            "gridcolor": "white",
            "linecolor": "white",
            "ticks": ""
           },
           "bgcolor": "#E5ECF6",
           "radialaxis": {
            "gridcolor": "white",
            "linecolor": "white",
            "ticks": ""
           }
          },
          "scene": {
           "xaxis": {
            "backgroundcolor": "#E5ECF6",
            "gridcolor": "white",
            "gridwidth": 2,
            "linecolor": "white",
            "showbackground": true,
            "ticks": "",
            "zerolinecolor": "white"
           },
           "yaxis": {
            "backgroundcolor": "#E5ECF6",
            "gridcolor": "white",
            "gridwidth": 2,
            "linecolor": "white",
            "showbackground": true,
            "ticks": "",
            "zerolinecolor": "white"
           },
           "zaxis": {
            "backgroundcolor": "#E5ECF6",
            "gridcolor": "white",
            "gridwidth": 2,
            "linecolor": "white",
            "showbackground": true,
            "ticks": "",
            "zerolinecolor": "white"
           }
          },
          "shapedefaults": {
           "line": {
            "color": "#2a3f5f"
           }
          },
          "ternary": {
           "aaxis": {
            "gridcolor": "white",
            "linecolor": "white",
            "ticks": ""
           },
           "baxis": {
            "gridcolor": "white",
            "linecolor": "white",
            "ticks": ""
           },
           "bgcolor": "#E5ECF6",
           "caxis": {
            "gridcolor": "white",
            "linecolor": "white",
            "ticks": ""
           }
          },
          "title": {
           "x": 0.05
          },
          "xaxis": {
           "automargin": true,
           "gridcolor": "white",
           "linecolor": "white",
           "ticks": "",
           "title": {
            "standoff": 15
           },
           "zerolinecolor": "white",
           "zerolinewidth": 2
          },
          "yaxis": {
           "automargin": true,
           "gridcolor": "white",
           "linecolor": "white",
           "ticks": "",
           "title": {
            "standoff": 15
           },
           "zerolinecolor": "white",
           "zerolinewidth": 2
          }
         }
        },
        "title": {
         "text": "Plot of line coordinates in MCA"
        },
        "xaxis": {
         "title": {
          "text": "Dimension 1"
         }
        },
        "yaxis": {
         "title": {
          "text": "Dimension 2"
         }
        }
       }
      }
     },
     "metadata": {},
     "output_type": "display_data"
    }
   ],
   "source": [
    "mca = prince.MCA(n_components=3).fit(df_formatted_categorical)\n",
    "standard_coord = mca.column_coordinates(df_formatted_categorical) / np.sqrt(mca.eigenvalues_)\n",
    "coord_obs = mca.row_coordinates(df_formatted_categorical)\n",
    "coord_obs.rename(columns={0: 'dim1_acm', 1: 'dim2_acm', 2: 'dim3_acm'}, inplace=True)\n",
    "\n",
    "chart = standard_coord.reset_index()\n",
    "var_chart = pd.Series(chart['index'].str.split('_', expand=True).iloc[:,0])\n",
    "\n",
    "name_categ=[]\n",
    "for col in df_formatted_categorical:\n",
    "    name_categ.append(df_formatted_categorical[col].sort_values(ascending=True).unique())\n",
    "    categories = pd.DataFrame(name_categ).stack().reset_index()\n",
    "\n",
    "chart_df_mca = pd.DataFrame({'category': chart['index'],\n",
    "                             'obs_x': chart[0],\n",
    "                             'obs_y': chart[1],\n",
    "                             'obs_z': chart[2],\n",
    "                             'variable': var_chart,\n",
    "                             'category_id': categories[0]})\n",
    "\n",
    "fig = px.scatter_3d(chart_df_mca, \n",
    "                    x='obs_x', \n",
    "                    y='obs_y', \n",
    "                    z='obs_z',\n",
    "                    color='variable',\n",
    "                    text=chart_df_mca.category_id) \n",
    "\n",
    "fig.update_traces(textposition='top right', textfont_size=8, marker_size=2)\n",
    "\n",
    "fig.update_layout(title='Plot of line coordinates in MCA',\n",
    "                  xaxis_title='Dimension 1',\n",
    "                  yaxis_title='Dimension 2',\n",
    "                  legend_title='Variable')\n",
    "fig.show()"
   ]
  },
  {
   "cell_type": "markdown",
   "id": "b7e20716",
   "metadata": {},
   "source": [
    "### 5. Conclusions\n",
    "\n",
    "Based on the dataset, the following conclusions can be drawn regarding cardiovascular disease:\n",
    "\n",
    "- There is a significant correlation between blood pressure levels and the condition, with higher levels indicating greater risk.\n",
    "- Advanced age and higher weight are predisposing factors.\n",
    "- Elevated levels of glucose and cholesterol are associated with heart issues.\n",
    "- Regular physical activity correlates positively with heart health.\n",
    "- Smoking shows little correlation with heart disease, and although the presence of cardiovascular disease is higher among those who consume alcohol, the correlation is not statistically significant according to the tests applied.\n",
    "- Gender and height show correlations with the disease, although they are relatively low.\n",
    "\n",
    "**Disclaimer:** This work is conducted for educational purposes and lacks medical scientific rigor. Therefore, it should not be construed as authoritative medical advice. Additionally, the reliability of the data used in this study is uncertain. Readers should exercise caution when interpreting the findings."
   ]
  },
  {
   "cell_type": "markdown",
   "id": "6d617ff7",
   "metadata": {},
   "source": [
    "### 6. Further Analysis"
   ]
  },
  {
   "cell_type": "markdown",
   "id": "04b3308a",
   "metadata": {},
   "source": [
    "Further analysis could involve exploring how multiple variables interact with the presence of cardiovascular disease. For example, examining the relationship between hypertension and the presence of the disease within each gender, or investigating how age interacts with various lifestyle factors concerning the condition.\n",
    "\n",
    "Additionally, acquiring a dataset that includes familial medical history would enable the analysis of genetic predispositions to heart disease, providing insights into its inherited influences."
   ]
  }
 ],
 "metadata": {
  "kernelspec": {
   "display_name": "Python 3 (ipykernel)",
   "language": "python",
   "name": "python3"
  },
  "language_info": {
   "codemirror_mode": {
    "name": "ipython",
    "version": 3
   },
   "file_extension": ".py",
   "mimetype": "text/x-python",
   "name": "python",
   "nbconvert_exporter": "python",
   "pygments_lexer": "ipython3",
   "version": "3.11.4"
  },
  "vscode": {
   "interpreter": {
    "hash": "7f9dc718a552478e14f37d36e0ca2ac7de1ac15c04a40a415ea3abc3fe8a0a39"
   }
  }
 },
 "nbformat": 4,
 "nbformat_minor": 5
}
